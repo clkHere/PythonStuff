{
 "cells": [
  {
   "cell_type": "markdown",
   "id": "0831e5d7",
   "metadata": {},
   "source": [
    "<h1> Bar Plots in Seaborn</h1>\n",
    "\n",
    "A barplot (or barchart) is one of the most common types of graphic. It shows the relationship between a numeric and a <b>categoric</b> variable. Each entity of the categoric variable is represented as a bar. The size of the bar represents its numeric value. A barplot can also display values for several levels of grouping.\n",
    "\n",
    "Barplot is sometimes described as a boring way to visualize information, despite its incredible efficiency. There are a few variations that allows to create more eye-catching figures without loosing any of the barplot accuracy, such as the 'lollipop' plot. \n",
    "    \n",
    "<blockquote><ins>Key Usage</ins>: To show relationships between numbers and <b>categories</b></blockquote>.\n",
    "\n",
    "<hr/>\n",
    "\n",
    "<h2>Importing Seaborn, Matplotlib, and Pandas</h2>"
   ]
  },
  {
   "cell_type": "code",
   "execution_count": 2,
   "id": "394c21f8",
   "metadata": {},
   "outputs": [],
   "source": [
    "import seaborn as sns\n",
    "import matplotlib.pyplot as plt\n",
    "import pandas as pd"
   ]
  },
  {
   "cell_type": "markdown",
   "id": "e0633e50",
   "metadata": {},
   "source": [
    "<hr/>\n",
    "\n",
    "<h2>Bar Plotting</h2>\n",
    "\n",
    "For this section, we'll use the `pokemon.csv` taken from <a href='https://gist.githubusercontent.com/armgilles/194bcff35001e7eb53a2a8b441e8b2c6/raw/92200bc0a673d5ce2110aaad4544ed6c4010f687/pokemon.csv'>here.</a>  "
   ]
  },
  {
   "cell_type": "code",
   "execution_count": 3,
   "id": "d2e6bf82",
   "metadata": {},
   "outputs": [
    {
     "data": {
      "text/html": [
       "<div>\n",
       "<style scoped>\n",
       "    .dataframe tbody tr th:only-of-type {\n",
       "        vertical-align: middle;\n",
       "    }\n",
       "\n",
       "    .dataframe tbody tr th {\n",
       "        vertical-align: top;\n",
       "    }\n",
       "\n",
       "    .dataframe thead th {\n",
       "        text-align: right;\n",
       "    }\n",
       "</style>\n",
       "<table border=\"1\" class=\"dataframe\">\n",
       "  <thead>\n",
       "    <tr style=\"text-align: right;\">\n",
       "      <th></th>\n",
       "      <th>abilities</th>\n",
       "      <th>against_bug</th>\n",
       "      <th>against_dark</th>\n",
       "      <th>against_dragon</th>\n",
       "      <th>against_electric</th>\n",
       "      <th>against_fairy</th>\n",
       "      <th>against_fight</th>\n",
       "      <th>against_fire</th>\n",
       "      <th>against_flying</th>\n",
       "      <th>against_ghost</th>\n",
       "      <th>...</th>\n",
       "      <th>percentage_male</th>\n",
       "      <th>pokedex_number</th>\n",
       "      <th>sp_attack</th>\n",
       "      <th>sp_defense</th>\n",
       "      <th>speed</th>\n",
       "      <th>type1</th>\n",
       "      <th>type2</th>\n",
       "      <th>weight_kg</th>\n",
       "      <th>generation</th>\n",
       "      <th>is_legendary</th>\n",
       "    </tr>\n",
       "  </thead>\n",
       "  <tbody>\n",
       "    <tr>\n",
       "      <th>0</th>\n",
       "      <td>['Overgrow', 'Chlorophyll']</td>\n",
       "      <td>1.0</td>\n",
       "      <td>1.0</td>\n",
       "      <td>1.0</td>\n",
       "      <td>0.5</td>\n",
       "      <td>0.5</td>\n",
       "      <td>0.5</td>\n",
       "      <td>2.0</td>\n",
       "      <td>2.0</td>\n",
       "      <td>1.0</td>\n",
       "      <td>...</td>\n",
       "      <td>88.1</td>\n",
       "      <td>1</td>\n",
       "      <td>65</td>\n",
       "      <td>65</td>\n",
       "      <td>45</td>\n",
       "      <td>grass</td>\n",
       "      <td>poison</td>\n",
       "      <td>6.9</td>\n",
       "      <td>1</td>\n",
       "      <td>0</td>\n",
       "    </tr>\n",
       "    <tr>\n",
       "      <th>1</th>\n",
       "      <td>['Overgrow', 'Chlorophyll']</td>\n",
       "      <td>1.0</td>\n",
       "      <td>1.0</td>\n",
       "      <td>1.0</td>\n",
       "      <td>0.5</td>\n",
       "      <td>0.5</td>\n",
       "      <td>0.5</td>\n",
       "      <td>2.0</td>\n",
       "      <td>2.0</td>\n",
       "      <td>1.0</td>\n",
       "      <td>...</td>\n",
       "      <td>88.1</td>\n",
       "      <td>2</td>\n",
       "      <td>80</td>\n",
       "      <td>80</td>\n",
       "      <td>60</td>\n",
       "      <td>grass</td>\n",
       "      <td>poison</td>\n",
       "      <td>13.0</td>\n",
       "      <td>1</td>\n",
       "      <td>0</td>\n",
       "    </tr>\n",
       "    <tr>\n",
       "      <th>2</th>\n",
       "      <td>['Overgrow', 'Chlorophyll']</td>\n",
       "      <td>1.0</td>\n",
       "      <td>1.0</td>\n",
       "      <td>1.0</td>\n",
       "      <td>0.5</td>\n",
       "      <td>0.5</td>\n",
       "      <td>0.5</td>\n",
       "      <td>2.0</td>\n",
       "      <td>2.0</td>\n",
       "      <td>1.0</td>\n",
       "      <td>...</td>\n",
       "      <td>88.1</td>\n",
       "      <td>3</td>\n",
       "      <td>122</td>\n",
       "      <td>120</td>\n",
       "      <td>80</td>\n",
       "      <td>grass</td>\n",
       "      <td>poison</td>\n",
       "      <td>100.0</td>\n",
       "      <td>1</td>\n",
       "      <td>0</td>\n",
       "    </tr>\n",
       "    <tr>\n",
       "      <th>3</th>\n",
       "      <td>['Blaze', 'Solar Power']</td>\n",
       "      <td>0.5</td>\n",
       "      <td>1.0</td>\n",
       "      <td>1.0</td>\n",
       "      <td>1.0</td>\n",
       "      <td>0.5</td>\n",
       "      <td>1.0</td>\n",
       "      <td>0.5</td>\n",
       "      <td>1.0</td>\n",
       "      <td>1.0</td>\n",
       "      <td>...</td>\n",
       "      <td>88.1</td>\n",
       "      <td>4</td>\n",
       "      <td>60</td>\n",
       "      <td>50</td>\n",
       "      <td>65</td>\n",
       "      <td>fire</td>\n",
       "      <td>NaN</td>\n",
       "      <td>8.5</td>\n",
       "      <td>1</td>\n",
       "      <td>0</td>\n",
       "    </tr>\n",
       "    <tr>\n",
       "      <th>4</th>\n",
       "      <td>['Blaze', 'Solar Power']</td>\n",
       "      <td>0.5</td>\n",
       "      <td>1.0</td>\n",
       "      <td>1.0</td>\n",
       "      <td>1.0</td>\n",
       "      <td>0.5</td>\n",
       "      <td>1.0</td>\n",
       "      <td>0.5</td>\n",
       "      <td>1.0</td>\n",
       "      <td>1.0</td>\n",
       "      <td>...</td>\n",
       "      <td>88.1</td>\n",
       "      <td>5</td>\n",
       "      <td>80</td>\n",
       "      <td>65</td>\n",
       "      <td>80</td>\n",
       "      <td>fire</td>\n",
       "      <td>NaN</td>\n",
       "      <td>19.0</td>\n",
       "      <td>1</td>\n",
       "      <td>0</td>\n",
       "    </tr>\n",
       "  </tbody>\n",
       "</table>\n",
       "<p>5 rows × 41 columns</p>\n",
       "</div>"
      ],
      "text/plain": [
       "                     abilities  against_bug  against_dark  against_dragon  \\\n",
       "0  ['Overgrow', 'Chlorophyll']          1.0           1.0             1.0   \n",
       "1  ['Overgrow', 'Chlorophyll']          1.0           1.0             1.0   \n",
       "2  ['Overgrow', 'Chlorophyll']          1.0           1.0             1.0   \n",
       "3     ['Blaze', 'Solar Power']          0.5           1.0             1.0   \n",
       "4     ['Blaze', 'Solar Power']          0.5           1.0             1.0   \n",
       "\n",
       "   against_electric  against_fairy  against_fight  against_fire  \\\n",
       "0               0.5            0.5            0.5           2.0   \n",
       "1               0.5            0.5            0.5           2.0   \n",
       "2               0.5            0.5            0.5           2.0   \n",
       "3               1.0            0.5            1.0           0.5   \n",
       "4               1.0            0.5            1.0           0.5   \n",
       "\n",
       "   against_flying  against_ghost  ...  percentage_male  pokedex_number  \\\n",
       "0             2.0            1.0  ...             88.1               1   \n",
       "1             2.0            1.0  ...             88.1               2   \n",
       "2             2.0            1.0  ...             88.1               3   \n",
       "3             1.0            1.0  ...             88.1               4   \n",
       "4             1.0            1.0  ...             88.1               5   \n",
       "\n",
       "   sp_attack  sp_defense  speed  type1   type2  weight_kg  generation  \\\n",
       "0         65          65     45  grass  poison        6.9           1   \n",
       "1         80          80     60  grass  poison       13.0           1   \n",
       "2        122         120     80  grass  poison      100.0           1   \n",
       "3         60          50     65   fire     NaN        8.5           1   \n",
       "4         80          65     80   fire     NaN       19.0           1   \n",
       "\n",
       "   is_legendary  \n",
       "0             0  \n",
       "1             0  \n",
       "2             0  \n",
       "3             0  \n",
       "4             0  \n",
       "\n",
       "[5 rows x 41 columns]"
      ]
     },
     "execution_count": 3,
     "metadata": {},
     "output_type": "execute_result"
    }
   ],
   "source": [
    "poke = pd.read_csv(r'C:\\Users\\Work\\Desktop\\Python Lessons\\Data Science\\Data Science w Py Course\\Data For Use\\pokemon.csv')\n",
    "poke.head()"
   ]
  },
  {
   "cell_type": "code",
   "execution_count": 14,
   "id": "e2878929",
   "metadata": {},
   "outputs": [
    {
     "data": {
      "text/plain": [
       "(801, 41)"
      ]
     },
     "execution_count": 14,
     "metadata": {},
     "output_type": "execute_result"
    }
   ],
   "source": [
    "poke.shape"
   ]
  },
  {
   "cell_type": "markdown",
   "id": "512a069a",
   "metadata": {},
   "source": [
    "The bar plot takes the same parameters as the line plot: &bigstar;`sns.barplot(x, y, data)`&bigstar;.\n",
    "\n",
    "This time we'll also include a background change to the plot with the <code>sns.set(style='colorGRID')</code> method.\n",
    "\n",
    "<b><ins>Comparing the speed of legendary and non-legendary pokemon</ins></b>"
   ]
  },
  {
   "cell_type": "code",
   "execution_count": 4,
   "id": "5ecedecc",
   "metadata": {},
   "outputs": [
    {
     "data": {
      "image/png": "[encoded data removed]",
      "text/plain": [
       "<Figure size 432x288 with 1 Axes>"
      ]
     },
     "metadata": {},
     "output_type": "display_data"
    }
   ],
   "source": [
    "# Setting plot bg to 'whitegrid'\n",
    "sns.set(style='whitegrid') \n",
    "\n",
    "# changing col names to lowercase\n",
    "poke.columns = poke.columns.str.lower() \n",
    "\n",
    "# setting bar plot params\n",
    "sns.barplot(x='is_legendary', y='speed', data=poke) \n",
    "\n",
    "# printing the bar plot graph\n",
    "plt.show() "
   ]
  },
  {
   "cell_type": "markdown",
   "id": "86e61074",
   "metadata": {},
   "source": [
    "<b>Analysis</b>: \n",
    "\n",
    "We see that legendary pokemon have notably higher speeds than non-legendary pokemon. "
   ]
  },
  {
   "cell_type": "markdown",
   "id": "b0c7300b",
   "metadata": {},
   "source": [
    "<ins><b>Comparing Legendary to Weights</b></ins>"
   ]
  },
  {
   "cell_type": "code",
   "execution_count": 5,
   "id": "ceae887e",
   "metadata": {},
   "outputs": [
    {
     "data": {
      "image/png": "[encoded data removed]",
      "text/plain": [
       "<Figure size 432x288 with 1 Axes>"
      ]
     },
     "metadata": {},
     "output_type": "display_data"
    }
   ],
   "source": [
    "# Changing the y-axis value:\n",
    "sns.barplot(x='is_legendary', y='weight_kg', data=poke) \n",
    "plt.show() # printing the bar plot graph"
   ]
  },
  {
   "cell_type": "markdown",
   "id": "cf47f807",
   "metadata": {},
   "source": [
    "<b>Analysis</b>: \n",
    "\n",
    "With this comparison, we see that legendary pokemon are heavier than non-legendary pokemon."
   ]
  },
  {
   "cell_type": "markdown",
   "id": "86eb1a12",
   "metadata": {},
   "source": [
    "<ins><b>Comparing the speed of legendary and non-legendary generational pokemon</b></ins>\n",
    "\n",
    "For this comparison, we will use the <code>hue=</code> parameter to add the values of the 'generation' column for comparison:"
   ]
  },
  {
   "cell_type": "code",
   "execution_count": 31,
   "id": "85fe76d9",
   "metadata": {},
   "outputs": [],
   "source": [
    "# Changing the binary classification to strings 'False' if 0, 'True' if 1\n",
    "poke.is_legendary = poke['is_legendary'].apply(lambda x: 'True' if x==1 else 'False')"
   ]
  },
  {
   "cell_type": "code",
   "execution_count": 6,
   "id": "122210c0",
   "metadata": {},
   "outputs": [
    {
     "data": {
      "image/png": "[encoded data removed]",
      "text/plain": [
       "<Figure size 432x288 with 1 Axes>"
      ]
     },
     "metadata": {},
     "output_type": "display_data"
    }
   ],
   "source": [
    "# Adding the 'hue' parameter:\n",
    "sns.barplot(x='is_legendary', y='weight_kg', data=poke, hue='generation') \n",
    "plt.show() # printing the bar plot graph"
   ]
  },
  {
   "cell_type": "markdown",
   "id": "c810eec2",
   "metadata": {},
   "source": [
    "<hr/>\n",
    "\n",
    "<h2>Changing Bar Colors with the <code>palette=</code> Parameter</h2>\n",
    "\n",
    "<b>Palette Combos</b>:\n",
    "\n",
    "* <code><b>'Blues_d'</b></code> : Dark Blue/ Light Blue\n",
    "* <code><b>'rocket'</b></code> : Purple / Magenta\n",
    "* <code><b>'vlag'</b></code> : Grey / Violet-pink"
   ]
  },
  {
   "cell_type": "code",
   "execution_count": 7,
   "id": "48cdc0bb",
   "metadata": {},
   "outputs": [
    {
     "data": {
      "image/png": "[encoded data removed]",
      "text/plain": [
       "<Figure size 432x288 with 1 Axes>"
      ]
     },
     "metadata": {},
     "output_type": "display_data"
    },
    {
     "data": {
      "image/png": "[encoded data removed]",
      "text/plain": [
       "<Figure size 432x288 with 1 Axes>"
      ]
     },
     "metadata": {},
     "output_type": "display_data"
    },
    {
     "data": {
      "image/png": "[encoded data removed]",
      "text/plain": [
       "<Figure size 432x288 with 1 Axes>"
      ]
     },
     "metadata": {},
     "output_type": "display_data"
    }
   ],
   "source": [
    "# The 'Blues_d' palette:\n",
    "sns.barplot(x='is_legendary', y='weight_kg', data=poke, palette='Blues_d').set(title='BLUES_D Palette') \n",
    "plt.show() # printing the bar plot graph\n",
    "\n",
    "# The 'rocket' palette:\n",
    "sns.barplot(x='is_legendary', y='weight_kg', data=poke, palette='rocket').set(title='ROCKET Palette')  \n",
    "plt.show() # printing the bar plot graph\n",
    "\n",
    "# The 'vlag' palette:\n",
    "sns.barplot(x='is_legendary', y='weight_kg', data=poke, palette='vlag').set(title='VLAG Palette')  \n",
    "plt.show() # printing the bar plot graph"
   ]
  },
  {
   "cell_type": "markdown",
   "id": "ace015e9",
   "metadata": {},
   "source": [
    "<h2>Setting one color using <code>color=</code> Parameter</h2>"
   ]
  },
  {
   "cell_type": "code",
   "execution_count": 8,
   "id": "e49180d2",
   "metadata": {},
   "outputs": [
    {
     "data": {
      "image/png": "[encoded data removed]",
      "text/plain": [
       "<Figure size 432x288 with 1 Axes>"
      ]
     },
     "metadata": {},
     "output_type": "display_data"
    }
   ],
   "source": [
    "# Setting color param: \n",
    "sns.barplot(x='is_legendary', y='weight_kg', data=poke, color='blue').set(title='VLAG Palette')  \n",
    "plt.show() # printing the bar plot graph"
   ]
  },
  {
   "cell_type": "code",
   "execution_count": null,
   "id": "8b66514d",
   "metadata": {},
   "outputs": [],
   "source": []
  }
 ],
 "metadata": {
  "kernelspec": {
   "display_name": "Python 3 (ipykernel)",
   "language": "python",
   "name": "python3"
  },
  "language_info": {
   "codemirror_mode": {
    "name": "ipython",
    "version": 3
   },
   "file_extension": ".py",
   "mimetype": "text/x-python",
   "name": "python",
   "nbconvert_exporter": "python",
   "pygments_lexer": "ipython3",
   "version": "3.9.7"
  }
 },
 "nbformat": 4,
 "nbformat_minor": 5
}
