{
 "cells": [
  {
   "cell_type": "markdown",
   "id": "d28a8ed6",
   "metadata": {},
   "source": [
    "<h2>Reading CSV and TXT files</h2>\n",
    "Rather than creating <code>Series</code> or <code>DataFrames</code> structures from scratch (or even from Python core sequences or <code>ndarrays</code>, the most typical use of <b>pandas</b> is based on the loading of information from files or sources of information for further exploration, transformation, and analysis. <br><br>In this lesson, we'll learn how to read CSVs and raw text files into pandas <code>DataFrames</code>"
   ]
  },
  {
   "cell_type": "code",
   "execution_count": 8,
   "id": "a32dc020",
   "metadata": {},
   "outputs": [],
   "source": [
    "import numpy as np\n",
    "import pandas as pd"
   ]
  },
  {
   "cell_type": "markdown",
   "id": "7e75c7b7",
   "metadata": {},
   "source": [
    "<h4>Reading data with Python</h4>\n",
    "<br>When you want to work with a file, the first thing you have to do is open it by invoking the <code>open()</code> built-in function.<br><br><code>open()</code> has a single required argument that is th epath to the file and has a single return: <b> the file object</b>.<br><br>The <code>with</code> statement automatically takes care of the closing the file once it leaves the <code>with</code> block, even in case of error."
   ]
  },
  {
   "cell_type": "code",
   "execution_count": 4,
   "id": "991a79d2",
   "metadata": {},
   "outputs": [],
   "source": [
    "# with open('''filepath&file''', 'r') as fp:\n",
    "#     pass"
   ]
  },
  {
   "cell_type": "markdown",
   "id": "e50720f6",
   "metadata": {},
   "source": [
    "<h4>Reading data with Pandas</h4>"
   ]
  },
  {
   "cell_type": "code",
   "execution_count": 17,
   "id": "c6df168f",
   "metadata": {},
   "outputs": [],
   "source": [
    "formats = pd.DataFrame({\n",
    "    'Format Type': ['text', 'text', 'text', 'text',\n",
    "                    'binary', 'binary','binary','binary',\n",
    "                    'binary','binary','binary','binary',\n",
    "                    'binary','SQL', 'SQL'],\n",
    "    'Data Description': ['CVS', 'JSON','HTML','Local Clip', \n",
    "                         'MS Excel', 'OpenDocument', 'HDF5', 'Feather Format', \n",
    "                         'Parquet Format', 'Msgpack', 'Stata', 'SAS', \n",
    "                         'Python Pickle Format', 'SQL', 'Google Big Query'],\n",
    "    'Reader': ['read_csv', 'read_json', 'read_html', 'read_clipboard', \n",
    "               'read_excel', 'read_excel', 'read_hdf', 'read_feather', \n",
    "               'read_parquet', 'read_msgpack', 'read_stata', 'read_sas', \n",
    "               'read_pickle', 'read_sql', 'read_gbq'],\n",
    "    'Writer': ['to_csv',np.nan, np.nan, np.nan, \n",
    "               np.nan, np.nan, np.nan, np.nan, \n",
    "               np.nan, np.nan, np.nan, np.nan, \n",
    "               np.nan, np.nan, np.nan]\n",
    "})"
   ]
  },
  {
   "cell_type": "code",
   "execution_count": 19,
   "id": "b15d2c09",
   "metadata": {},
   "outputs": [],
   "source": [
    "formats.set_index('Format Type', inplace=True)"
   ]
  },
  {
   "cell_type": "code",
   "execution_count": 20,
   "id": "ac6f2e46",
   "metadata": {},
   "outputs": [
    {
     "data": {
      "text/html": [
       "<div>\n",
       "<style scoped>\n",
       "    .dataframe tbody tr th:only-of-type {\n",
       "        vertical-align: middle;\n",
       "    }\n",
       "\n",
       "    .dataframe tbody tr th {\n",
       "        vertical-align: top;\n",
       "    }\n",
       "\n",
       "    .dataframe thead th {\n",
       "        text-align: right;\n",
       "    }\n",
       "</style>\n",
       "<table border=\"1\" class=\"dataframe\">\n",
       "  <thead>\n",
       "    <tr style=\"text-align: right;\">\n",
       "      <th></th>\n",
       "      <th>Data Description</th>\n",
       "      <th>Reader</th>\n",
       "      <th>Writer</th>\n",
       "    </tr>\n",
       "    <tr>\n",
       "      <th>Format Type</th>\n",
       "      <th></th>\n",
       "      <th></th>\n",
       "      <th></th>\n",
       "    </tr>\n",
       "  </thead>\n",
       "  <tbody>\n",
       "    <tr>\n",
       "      <th>text</th>\n",
       "      <td>CVS</td>\n",
       "      <td>read_csv</td>\n",
       "      <td>to_csv</td>\n",
       "    </tr>\n",
       "    <tr>\n",
       "      <th>text</th>\n",
       "      <td>JSON</td>\n",
       "      <td>read_json</td>\n",
       "      <td>NaN</td>\n",
       "    </tr>\n",
       "    <tr>\n",
       "      <th>text</th>\n",
       "      <td>HTML</td>\n",
       "      <td>read_html</td>\n",
       "      <td>NaN</td>\n",
       "    </tr>\n",
       "    <tr>\n",
       "      <th>text</th>\n",
       "      <td>Local Clip</td>\n",
       "      <td>read_clipboard</td>\n",
       "      <td>NaN</td>\n",
       "    </tr>\n",
       "    <tr>\n",
       "      <th>binary</th>\n",
       "      <td>MS Excel</td>\n",
       "      <td>read_excel</td>\n",
       "      <td>NaN</td>\n",
       "    </tr>\n",
       "    <tr>\n",
       "      <th>binary</th>\n",
       "      <td>OpenDocument</td>\n",
       "      <td>read_excel</td>\n",
       "      <td>NaN</td>\n",
       "    </tr>\n",
       "    <tr>\n",
       "      <th>binary</th>\n",
       "      <td>HDF5</td>\n",
       "      <td>read_hdf</td>\n",
       "      <td>NaN</td>\n",
       "    </tr>\n",
       "    <tr>\n",
       "      <th>binary</th>\n",
       "      <td>Feather Format</td>\n",
       "      <td>read_feather</td>\n",
       "      <td>NaN</td>\n",
       "    </tr>\n",
       "    <tr>\n",
       "      <th>binary</th>\n",
       "      <td>Parquet Format</td>\n",
       "      <td>read_parquet</td>\n",
       "      <td>NaN</td>\n",
       "    </tr>\n",
       "    <tr>\n",
       "      <th>binary</th>\n",
       "      <td>Msgpack</td>\n",
       "      <td>read_msgpack</td>\n",
       "      <td>NaN</td>\n",
       "    </tr>\n",
       "    <tr>\n",
       "      <th>binary</th>\n",
       "      <td>Stata</td>\n",
       "      <td>read_stata</td>\n",
       "      <td>NaN</td>\n",
       "    </tr>\n",
       "    <tr>\n",
       "      <th>binary</th>\n",
       "      <td>SAS</td>\n",
       "      <td>read_sas</td>\n",
       "      <td>NaN</td>\n",
       "    </tr>\n",
       "    <tr>\n",
       "      <th>binary</th>\n",
       "      <td>Python Pickle Format</td>\n",
       "      <td>read_pickle</td>\n",
       "      <td>NaN</td>\n",
       "    </tr>\n",
       "    <tr>\n",
       "      <th>SQL</th>\n",
       "      <td>SQL</td>\n",
       "      <td>read_sql</td>\n",
       "      <td>NaN</td>\n",
       "    </tr>\n",
       "    <tr>\n",
       "      <th>SQL</th>\n",
       "      <td>Google Big Query</td>\n",
       "      <td>read_gbq</td>\n",
       "      <td>NaN</td>\n",
       "    </tr>\n",
       "  </tbody>\n",
       "</table>\n",
       "</div>"
      ],
      "text/plain": [
       "                 Data Description          Reader  Writer\n",
       "Format Type                                              \n",
       "text                          CVS        read_csv  to_csv\n",
       "text                         JSON       read_json     NaN\n",
       "text                         HTML       read_html     NaN\n",
       "text                   Local Clip  read_clipboard     NaN\n",
       "binary                   MS Excel      read_excel     NaN\n",
       "binary               OpenDocument      read_excel     NaN\n",
       "binary                       HDF5        read_hdf     NaN\n",
       "binary             Feather Format    read_feather     NaN\n",
       "binary             Parquet Format    read_parquet     NaN\n",
       "binary                    Msgpack    read_msgpack     NaN\n",
       "binary                      Stata      read_stata     NaN\n",
       "binary                        SAS        read_sas     NaN\n",
       "binary       Python Pickle Format     read_pickle     NaN\n",
       "SQL                           SQL        read_sql     NaN\n",
       "SQL              Google Big Query        read_gbq     NaN"
      ]
     },
     "execution_count": 20,
     "metadata": {},
     "output_type": "execute_result"
    }
   ],
   "source": [
    "formats"
   ]
  },
  {
   "cell_type": "markdown",
   "id": "868f0c27",
   "metadata": {},
   "source": [
    "<h2>The <code>read_csv</code> Method</h2>\n",
    "The read_csv function is extremely powerful and you can specify a very broad set of parameters at import time that allow us to accurately configure how the data will be read and parsed by specifying the correct structure, enconding and other details. The most common parameters are as follows:\n",
    "\n",
    "<b><u>PARAMETERS</u>:</b><br>\n",
    "<code>filepath</code>: Path of file to be read.<br>\n",
    "<code>sep</code>: Character(s) that are used as a field separator in file.<br>\n",
    "<code>header</code>: Index of the row containing the names of the columns (None if none).<br>\n",
    "<code>index_col</code>: Index of the column or sequence of indexes that should be used as index of rows of the data<br>\n",
    "<code>names</code>: sequence containing the names of the olumns (used together with header = None)<br>\n",
    "<code>skiprows</code>: Number of rows or sequence of row indexes to ignore the load<br>\n",
    "<code>na_values</code>: Sequence of values that, if found in the file, should be treated as NaN.<br>\n",
    "<code>dtype</code>: Dictionary in which the keys will be column names and the values wil be types of NumPy to which their content must be converted.<br>\n",
    "<code>parse_dates</code>: Flag that indicates if Python should try to parse data with a formate simliar to dates as dates.<br>\n",
    "<code>date_parser</code>: Function to use to try to parse dates<br>\n",
    "<code>skip_footer</code><br>\n",
    "<code>encoding</code><br>\n",
    "<code>squeeze</code><br>\n",
    "<code>thousands</code>: Character to use to detect the thousands separator.<br>\n",
    "<code>decimal</code>: Character to use to detect the decimal sepaerator. <br>\n",
    "<code>skip_blank_lines</code>: Flag that indicates whether blank lines should be ignored. <br>\n"
   ]
  },
  {
   "cell_type": "markdown",
   "id": "efb2e619",
   "metadata": {},
   "source": [
    "<h3>Reading our first CSV file<h3>\n"
   ]
  },
  {
   "cell_type": "code",
   "execution_count": 25,
   "id": "cefe1ce8",
   "metadata": {},
   "outputs": [
    {
     "data": {
      "text/html": [
       "<div>\n",
       "<style scoped>\n",
       "    .dataframe tbody tr th:only-of-type {\n",
       "        vertical-align: middle;\n",
       "    }\n",
       "\n",
       "    .dataframe tbody tr th {\n",
       "        vertical-align: top;\n",
       "    }\n",
       "\n",
       "    .dataframe thead th {\n",
       "        text-align: right;\n",
       "    }\n",
       "</style>\n",
       "<table border=\"1\" class=\"dataframe\">\n",
       "  <thead>\n",
       "    <tr style=\"text-align: right;\">\n",
       "      <th></th>\n",
       "      <th>2017-04-02 00:00:00</th>\n",
       "      <th>1099.169125</th>\n",
       "    </tr>\n",
       "  </thead>\n",
       "  <tbody>\n",
       "    <tr>\n",
       "      <th>0</th>\n",
       "      <td>2017-04-03 00:00:00</td>\n",
       "      <td>1141.813000</td>\n",
       "    </tr>\n",
       "    <tr>\n",
       "      <th>1</th>\n",
       "      <td>2017-04-04 00:00:00</td>\n",
       "      <td>1141.600363</td>\n",
       "    </tr>\n",
       "    <tr>\n",
       "      <th>2</th>\n",
       "      <td>2017-04-05 00:00:00</td>\n",
       "      <td>1133.079314</td>\n",
       "    </tr>\n",
       "    <tr>\n",
       "      <th>3</th>\n",
       "      <td>2017-04-06 00:00:00</td>\n",
       "      <td>1196.307937</td>\n",
       "    </tr>\n",
       "    <tr>\n",
       "      <th>4</th>\n",
       "      <td>2017-04-07 00:00:00</td>\n",
       "      <td>1190.454250</td>\n",
       "    </tr>\n",
       "  </tbody>\n",
       "</table>\n",
       "</div>"
      ],
      "text/plain": [
       "   2017-04-02 00:00:00  1099.169125\n",
       "0  2017-04-03 00:00:00  1141.813000\n",
       "1  2017-04-04 00:00:00  1141.600363\n",
       "2  2017-04-05 00:00:00  1133.079314\n",
       "3  2017-04-06 00:00:00  1196.307937\n",
       "4  2017-04-07 00:00:00  1190.454250"
      ]
     },
     "execution_count": 25,
     "metadata": {},
     "output_type": "execute_result"
    }
   ],
   "source": [
    "pd.read_csv('https://raw.githubusercontent.com/'+\n",
    "            'ine-rmotr-curriculum/data-cleaning'+\n",
    "            '-rmotr-freecodecamp/master/data/btc'+\n",
    "            '-market-price.csv').head()\n",
    "\n",
    "#In this case, we let pandas infer everything related to our data but, in most cases...\n",
    "#We'll need to explicity tell pandas how we want our data to be loaded -- by using parameters."
   ]
  },
  {
   "cell_type": "markdown",
   "id": "132ecc81",
   "metadata": {},
   "source": [
    "<b><i>First row behavior with <code><b>header</b></code> parameter</i></b><br>\n",
    "The CSV file we're reading has two columns: <code>Timestamp</code> and <code>Price</code>. It doesn't have a header. Pandas are automatically assigned the first row of data as headers, which is incorrect. We can overwrite this behavior with the <code>header</code> parameter. "
   ]
  },
  {
   "cell_type": "code",
   "execution_count": 34,
   "id": "86f6c117",
   "metadata": {
    "scrolled": true
   },
   "outputs": [
    {
     "data": {
      "text/html": [
       "<div>\n",
       "<style scoped>\n",
       "    .dataframe tbody tr th:only-of-type {\n",
       "        vertical-align: middle;\n",
       "    }\n",
       "\n",
       "    .dataframe tbody tr th {\n",
       "        vertical-align: top;\n",
       "    }\n",
       "\n",
       "    .dataframe thead th {\n",
       "        text-align: right;\n",
       "    }\n",
       "</style>\n",
       "<table border=\"1\" class=\"dataframe\">\n",
       "  <thead>\n",
       "    <tr style=\"text-align: right;\">\n",
       "      <th></th>\n",
       "      <th>Timestamp</th>\n",
       "      <th>Price</th>\n",
       "    </tr>\n",
       "  </thead>\n",
       "  <tbody>\n",
       "    <tr>\n",
       "      <th>0</th>\n",
       "      <td>2017-04-02 00:00:00</td>\n",
       "      <td>1099.169125</td>\n",
       "    </tr>\n",
       "    <tr>\n",
       "      <th>1</th>\n",
       "      <td>2017-04-03 00:00:00</td>\n",
       "      <td>1141.813000</td>\n",
       "    </tr>\n",
       "    <tr>\n",
       "      <th>2</th>\n",
       "      <td>2017-04-04 00:00:00</td>\n",
       "      <td>1141.600363</td>\n",
       "    </tr>\n",
       "    <tr>\n",
       "      <th>3</th>\n",
       "      <td>2017-04-05 00:00:00</td>\n",
       "      <td>1133.079314</td>\n",
       "    </tr>\n",
       "    <tr>\n",
       "      <th>4</th>\n",
       "      <td>2017-04-06 00:00:00</td>\n",
       "      <td>1196.307937</td>\n",
       "    </tr>\n",
       "  </tbody>\n",
       "</table>\n",
       "</div>"
      ],
      "text/plain": [
       "             Timestamp        Price\n",
       "0  2017-04-02 00:00:00  1099.169125\n",
       "1  2017-04-03 00:00:00  1141.813000\n",
       "2  2017-04-04 00:00:00  1141.600363\n",
       "3  2017-04-05 00:00:00  1133.079314\n",
       "4  2017-04-06 00:00:00  1196.307937"
      ]
     },
     "execution_count": 34,
     "metadata": {},
     "output_type": "execute_result"
    }
   ],
   "source": [
    "df = pd.read_csv('https://raw.githubusercontent.com/'+\n",
    "            'ine-rmotr-curriculum/data-cleaning'+\n",
    "            '-rmotr-freecodecamp/master/data/btc'+\n",
    "            '-market-price.csv', \n",
    "                 header=None, \n",
    "                 names=(['Timestamp', 'Price']))\n",
    "df.head()"
   ]
  },
  {
   "cell_type": "markdown",
   "id": "c60b9332",
   "metadata": {},
   "source": [
    "<b><i>Missing values with <code>na_values</code> parameter</i></b><br>\n",
    "We can define <code>na_values</code> parameter with the values we want to be recognized as NA/NaN. "
   ]
  },
  {
   "cell_type": "code",
   "execution_count": 37,
   "id": "5c423de9",
   "metadata": {},
   "outputs": [
    {
     "data": {
      "text/html": [
       "<div>\n",
       "<style scoped>\n",
       "    .dataframe tbody tr th:only-of-type {\n",
       "        vertical-align: middle;\n",
       "    }\n",
       "\n",
       "    .dataframe tbody tr th {\n",
       "        vertical-align: top;\n",
       "    }\n",
       "\n",
       "    .dataframe thead th {\n",
       "        text-align: right;\n",
       "    }\n",
       "</style>\n",
       "<table border=\"1\" class=\"dataframe\">\n",
       "  <thead>\n",
       "    <tr style=\"text-align: right;\">\n",
       "      <th></th>\n",
       "      <th>0</th>\n",
       "      <th>1</th>\n",
       "    </tr>\n",
       "  </thead>\n",
       "  <tbody>\n",
       "    <tr>\n",
       "      <th>0</th>\n",
       "      <td>2017-04-02 00:00:00</td>\n",
       "      <td>1099.169125</td>\n",
       "    </tr>\n",
       "    <tr>\n",
       "      <th>1</th>\n",
       "      <td>2017-04-03 00:00:00</td>\n",
       "      <td>1141.813000</td>\n",
       "    </tr>\n",
       "    <tr>\n",
       "      <th>2</th>\n",
       "      <td>2017-04-04 00:00:00</td>\n",
       "      <td>1141.600363</td>\n",
       "    </tr>\n",
       "    <tr>\n",
       "      <th>3</th>\n",
       "      <td>2017-04-05 00:00:00</td>\n",
       "      <td>1133.079314</td>\n",
       "    </tr>\n",
       "    <tr>\n",
       "      <th>4</th>\n",
       "      <td>2017-04-06 00:00:00</td>\n",
       "      <td>1196.307937</td>\n",
       "    </tr>\n",
       "  </tbody>\n",
       "</table>\n",
       "</div>"
      ],
      "text/plain": [
       "                     0            1\n",
       "0  2017-04-02 00:00:00  1099.169125\n",
       "1  2017-04-03 00:00:00  1141.813000\n",
       "2  2017-04-04 00:00:00  1141.600363\n",
       "3  2017-04-05 00:00:00  1133.079314\n",
       "4  2017-04-06 00:00:00  1196.307937"
      ]
     },
     "execution_count": 37,
     "metadata": {},
     "output_type": "execute_result"
    }
   ],
   "source": [
    "df = pd.read_csv('https://raw.githubusercontent.com/'+\n",
    "            'ine-rmotr-curriculum/data-cleaning'+\n",
    "            '-rmotr-freecodecamp/master/data/btc'+\n",
    "            '-market-price.csv', \n",
    "                 header=None, na_values=['','?','-'])\n",
    "df.head()"
   ]
  },
  {
   "cell_type": "markdown",
   "id": "1b5b33d0",
   "metadata": {},
   "source": [
    "<b>Column types using <code>dtype</code> parameter</b>"
   ]
  },
  {
   "cell_type": "markdown",
   "id": "a5d0f3d5",
   "metadata": {},
   "source": [
    "<b>Date parser using <code>parse_dates</code> parameter</b>"
   ]
  },
  {
   "cell_type": "markdown",
   "id": "eacb3d53",
   "metadata": {},
   "source": [
    "<b>Adding index to our data using <code>index_col</code> parameter</b>"
   ]
  },
  {
   "cell_type": "markdown",
   "id": "9b552629",
   "metadata": {},
   "source": [
    "<b>Custom data delimiters using <code>sep</code> parameter</b>"
   ]
  },
  {
   "cell_type": "markdown",
   "id": "ec4564ef",
   "metadata": {},
   "source": [
    "<b>Custom data encoding</b>"
   ]
  },
  {
   "cell_type": "markdown",
   "id": "f244f2ee",
   "metadata": {},
   "source": [
    "<b>Customer numeric <code>decimal</code> and <code>Thousands</code> character</b>"
   ]
  },
  {
   "cell_type": "markdown",
   "id": "899909cf",
   "metadata": {},
   "source": [
    "<b>Get rid of blank lines</b>"
   ]
  },
  {
   "cell_type": "markdown",
   "id": "8b614889",
   "metadata": {},
   "source": [
    "<b>Save to CSV file</b><br>We can simply generate a CSV string from our <code>DataFrame</code>:"
   ]
  },
  {
   "cell_type": "code",
   "execution_count": 43,
   "id": "83396068",
   "metadata": {},
   "outputs": [
    {
     "data": {
      "text/html": [
       "<div>\n",
       "<style scoped>\n",
       "    .dataframe tbody tr th:only-of-type {\n",
       "        vertical-align: middle;\n",
       "    }\n",
       "\n",
       "    .dataframe tbody tr th {\n",
       "        vertical-align: top;\n",
       "    }\n",
       "\n",
       "    .dataframe thead th {\n",
       "        text-align: right;\n",
       "    }\n",
       "</style>\n",
       "<table border=\"1\" class=\"dataframe\">\n",
       "  <thead>\n",
       "    <tr style=\"text-align: right;\">\n",
       "      <th></th>\n",
       "      <th>first_name</th>\n",
       "      <th>last_name:</th>\n",
       "      <th>Age</th>\n",
       "      <th>math_score</th>\n",
       "      <th>french_score</th>\n",
       "    </tr>\n",
       "  </thead>\n",
       "  <tbody>\n",
       "    <tr>\n",
       "      <th>0</th>\n",
       "      <td>Melvin</td>\n",
       "      <td>Scott</td>\n",
       "      <td>24</td>\n",
       "      <td>77.0</td>\n",
       "      <td>83</td>\n",
       "    </tr>\n",
       "    <tr>\n",
       "      <th>1</th>\n",
       "      <td>Gerard</td>\n",
       "      <td>Mills</td>\n",
       "      <td>19</td>\n",
       "      <td>78.0</td>\n",
       "      <td>72</td>\n",
       "    </tr>\n",
       "    <tr>\n",
       "      <th>2</th>\n",
       "      <td>Amy</td>\n",
       "      <td>Grimes</td>\n",
       "      <td>23</td>\n",
       "      <td>91.0</td>\n",
       "      <td>81</td>\n",
       "    </tr>\n",
       "  </tbody>\n",
       "</table>\n",
       "</div>"
      ],
      "text/plain": [
       "  first_name last_name:  Age  math_score  french_score\n",
       "0     Melvin      Scott   24        77.0            83\n",
       "1     Gerard      Mills   19        78.0            72\n",
       "2        Amy     Grimes   23        91.0            81"
      ]
     },
     "execution_count": 43,
     "metadata": {},
     "output_type": "execute_result"
    }
   ],
   "source": [
    "exam = pd.DataFrame({\n",
    "    'first_name': ['Melvin', 'Gerard', 'Amy'],\n",
    "    'last_name:': ['Scott', 'Mills', 'Grimes'],\n",
    "    'Age': [24,19,23],\n",
    "    'math_score': [77.0,78.0,91.0],\n",
    "    'french_score': [83, 72,81],\n",
    "})\n",
    "\n",
    "exam"
   ]
  },
  {
   "cell_type": "code",
   "execution_count": null,
   "id": "e7784099",
   "metadata": {},
   "outputs": [],
   "source": []
  },
  {
   "cell_type": "code",
   "execution_count": null,
   "id": "e8f809d5",
   "metadata": {},
   "outputs": [],
   "source": []
  }
 ],
 "metadata": {
  "kernelspec": {
   "display_name": "Python 3 (ipykernel)",
   "language": "python",
   "name": "python3"
  },
  "language_info": {
   "codemirror_mode": {
    "name": "ipython",
    "version": 3
   },
   "file_extension": ".py",
   "mimetype": "text/x-python",
   "name": "python",
   "nbconvert_exporter": "python",
   "pygments_lexer": "ipython3",
   "version": "3.9.7"
  }
 },
 "nbformat": 4,
 "nbformat_minor": 5
}
