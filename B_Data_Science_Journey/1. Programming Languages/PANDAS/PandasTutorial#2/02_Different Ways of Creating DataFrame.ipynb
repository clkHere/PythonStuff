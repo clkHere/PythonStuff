{
 "cells": [
  {
   "cell_type": "markdown",
   "id": "6ae932b0",
   "metadata": {},
   "source": [
    "<a class='anchor' id='top'></a>\n",
    "<h1>Different Ways of Creating DataFrames</h1>"
   ]
  },
  {
   "cell_type": "markdown",
   "id": "f895093a",
   "metadata": {},
   "source": [
    "<h2> Contents </h2>\n",
    "\n",
    "* [Using CSV](#csv)\n",
    "* [Using Excel](#excel)\n",
    "* [Python Dict](#python)\n",
    "* [From Tuples](#tuples)\n",
    "* [List of Dicts](#list)\n",
    "* [Other Ways](#other)"
   ]
  },
  {
   "cell_type": "markdown",
   "id": "c1e18e2b",
   "metadata": {},
   "source": [
    "<hr>\n",
    "\n",
    "- [Back to Top](#top)\n",
    "<a class='anchor' id='csv'></a>\n",
    "<h2>Using CSV</h2>\n",
    "\n"
   ]
  },
  {
   "cell_type": "code",
   "execution_count": 39,
   "id": "dd0934e9",
   "metadata": {},
   "outputs": [
    {
     "data": {
      "text/html": [
       "<div>\n",
       "<style scoped>\n",
       "    .dataframe tbody tr th:only-of-type {\n",
       "        vertical-align: middle;\n",
       "    }\n",
       "\n",
       "    .dataframe tbody tr th {\n",
       "        vertical-align: top;\n",
       "    }\n",
       "\n",
       "    .dataframe thead th {\n",
       "        text-align: right;\n",
       "    }\n",
       "</style>\n",
       "<table border=\"1\" class=\"dataframe\">\n",
       "  <thead>\n",
       "    <tr style=\"text-align: right;\">\n",
       "      <th></th>\n",
       "      <th>day</th>\n",
       "      <th>temperature</th>\n",
       "      <th>windspeed</th>\n",
       "      <th>event</th>\n",
       "    </tr>\n",
       "  </thead>\n",
       "  <tbody>\n",
       "    <tr>\n",
       "      <th>0</th>\n",
       "      <td>1/1/2017</td>\n",
       "      <td>32</td>\n",
       "      <td>6</td>\n",
       "      <td>Rain</td>\n",
       "    </tr>\n",
       "    <tr>\n",
       "      <th>1</th>\n",
       "      <td>1/2/2017</td>\n",
       "      <td>35</td>\n",
       "      <td>7</td>\n",
       "      <td>Sunny</td>\n",
       "    </tr>\n",
       "    <tr>\n",
       "      <th>2</th>\n",
       "      <td>1/3/2017</td>\n",
       "      <td>28</td>\n",
       "      <td>2</td>\n",
       "      <td>Snow</td>\n",
       "    </tr>\n",
       "    <tr>\n",
       "      <th>3</th>\n",
       "      <td>1/4/2017</td>\n",
       "      <td>24</td>\n",
       "      <td>7</td>\n",
       "      <td>Snow</td>\n",
       "    </tr>\n",
       "    <tr>\n",
       "      <th>4</th>\n",
       "      <td>1/5/2017</td>\n",
       "      <td>32</td>\n",
       "      <td>4</td>\n",
       "      <td>Rain</td>\n",
       "    </tr>\n",
       "    <tr>\n",
       "      <th>5</th>\n",
       "      <td>1/6/2017</td>\n",
       "      <td>32</td>\n",
       "      <td>2</td>\n",
       "      <td>Sunny</td>\n",
       "    </tr>\n",
       "  </tbody>\n",
       "</table>\n",
       "</div>"
      ],
      "text/plain": [
       "        day  temperature  windspeed  event\n",
       "0  1/1/2017           32          6   Rain\n",
       "1  1/2/2017           35          7  Sunny\n",
       "2  1/3/2017           28          2   Snow\n",
       "3  1/4/2017           24          7   Snow\n",
       "4  1/5/2017           32          4   Rain\n",
       "5  1/6/2017           32          2  Sunny"
      ]
     },
     "execution_count": 39,
     "metadata": {},
     "output_type": "execute_result"
    }
   ],
   "source": [
    "import pandas as pd\n",
    "\n",
    "dfWtr = pd.read_csv(r'C:\\Users\\Work\\Desktop\\Python Lessons\\Data Science\\Data Science w Py Course\\Data For Use\\weather.csv')\n",
    "dfWtr"
   ]
  },
  {
   "cell_type": "markdown",
   "id": "9bd6eaa4",
   "metadata": {},
   "source": [
    "<hr>\n",
    "\n",
    "- [Back to Top](#top)\n",
    "<a class='anchor' id='excel'></a>\n",
    "<h2>Using Excel</h2>\n",
    "\n",
    "The format for opening Excel files is: \n",
    "\n",
    "<code> pd.read_excel(<i>param1,param2</i>)</code> WHERE:\n",
    "- pd.read_excel() -> opens the file\n",
    "- param1 -> is the excel filename, i.e. -> 'FILE_NAME'.xlsx\n",
    "- param2 -> is the sheet name, i.e. -> 'SHEET1'"
   ]
  },
  {
   "cell_type": "code",
   "execution_count": 37,
   "id": "4ce1198b",
   "metadata": {},
   "outputs": [
    {
     "data": {
      "text/plain": [
       "public_carriers\n",
       "HMD LLC                                           HMD\n",
       "Harika Trucking                        Royal Invoices\n",
       "Elephant Express Inc                       JD Factors\n",
       "Old Iron Trucking                       RTS Financial\n",
       "Run Direct                              RTS Financial\n",
       "C1 Transportation                       RTS Financial\n",
       "PC Logistics Group INC.     Compass Funding Solutions\n",
       "New Era Trucking           CarrierNet Group Financial\n",
       "Name: factoring_co, dtype: object"
      ]
     },
     "execution_count": 37,
     "metadata": {},
     "output_type": "execute_result"
    }
   ],
   "source": [
    "colnames=['public_carriers', 'factoring_co']\n",
    "jkrf = pd.read_excel(r'C:\\Users\\Work\\Documents\\CalTemp\\Business\\JKR Freight\\Carriers\\CarrierDatabase.xlsx','Sheet1', header=None, names=colnames)\n",
    "jkrf = jkrf.drop(labels=range(0,6), axis=0) #drop shitty values\n",
    "jkrf.factoring_co = jkrf.factoring_co.fillna('redacted') #replace NaN values\n",
    "jkrf.set_index('public_carriers', inplace=True) #set index to carrier names\n",
    "jkrf.factoring_co[jkrf['factoring_co']!='redacted'] #all carriers who don't have redacted factoring companies.\n"
   ]
  },
  {
   "cell_type": "markdown",
   "id": "17f422b9",
   "metadata": {},
   "source": [
    "<hr>\n",
    "\n",
    "- [Back to Top](#top)\n",
    "<a class='anchor' id='python'></a>\n",
    "<h2>Using Python Dictionary</h2>\n",
    "\n",
    "To create a DataFrame either on-the-fly or from data that can't be parsed, you can create a dictionary: "
   ]
  },
  {
   "cell_type": "code",
   "execution_count": 43,
   "id": "f537ed1a",
   "metadata": {},
   "outputs": [
    {
     "data": {
      "text/html": [
       "<div>\n",
       "<style scoped>\n",
       "    .dataframe tbody tr th:only-of-type {\n",
       "        vertical-align: middle;\n",
       "    }\n",
       "\n",
       "    .dataframe tbody tr th {\n",
       "        vertical-align: top;\n",
       "    }\n",
       "\n",
       "    .dataframe thead th {\n",
       "        text-align: right;\n",
       "    }\n",
       "</style>\n",
       "<table border=\"1\" class=\"dataframe\">\n",
       "  <thead>\n",
       "    <tr style=\"text-align: right;\">\n",
       "      <th></th>\n",
       "      <th>Contact Info</th>\n",
       "      <th>Calvin King</th>\n",
       "      <th>Jason Borne</th>\n",
       "      <th>Michael Scott</th>\n",
       "      <th>Jim Halpert</th>\n",
       "    </tr>\n",
       "  </thead>\n",
       "  <tbody>\n",
       "    <tr>\n",
       "      <th>0</th>\n",
       "      <td>Email</td>\n",
       "      <td>mrcking88@gmail.com</td>\n",
       "      <td>jbourne@topsecret.com</td>\n",
       "      <td>mscott@dundermifflin</td>\n",
       "      <td>jhalpert@dundermifflin</td>\n",
       "    </tr>\n",
       "    <tr>\n",
       "      <th>1</th>\n",
       "      <td>Phone</td>\n",
       "      <td>336.549.1149</td>\n",
       "      <td>xxx-xxx-xxxx</td>\n",
       "      <td>800-627-0114</td>\n",
       "      <td>800-627-0114</td>\n",
       "    </tr>\n",
       "    <tr>\n",
       "      <th>2</th>\n",
       "      <td>Website</td>\n",
       "      <td>github.com/xxkohxx</td>\n",
       "      <td>bourneidentity.com</td>\n",
       "      <td>www.sceendy.com</td>\n",
       "      <td>www.sceendy.com</td>\n",
       "    </tr>\n",
       "    <tr>\n",
       "      <th>3</th>\n",
       "      <td>LinkedIn</td>\n",
       "      <td>/in/expCalvinKing</td>\n",
       "      <td>redacted</td>\n",
       "      <td>redacted</td>\n",
       "      <td>redacted</td>\n",
       "    </tr>\n",
       "  </tbody>\n",
       "</table>\n",
       "</div>"
      ],
      "text/plain": [
       "  Contact Info          Calvin King            Jason Borne  \\\n",
       "0        Email  mrcking88@gmail.com  jbourne@topsecret.com   \n",
       "1        Phone         336.549.1149           xxx-xxx-xxxx   \n",
       "2      Website   github.com/xxkohxx     bourneidentity.com   \n",
       "3     LinkedIn    /in/expCalvinKing               redacted   \n",
       "\n",
       "          Michael Scott             Jim Halpert  \n",
       "0  mscott@dundermifflin  jhalpert@dundermifflin  \n",
       "1          800-627-0114            800-627-0114  \n",
       "2       www.sceendy.com         www.sceendy.com  \n",
       "3              redacted                redacted  "
      ]
     },
     "execution_count": 43,
     "metadata": {},
     "output_type": "execute_result"
    }
   ],
   "source": [
    "contact_info = {\n",
    "    'Contact Info':['Email', 'Phone', 'Website', 'LinkedIn'],\n",
    "    'Calvin King': ['mrcking88@gmail.com','336.549.1149','github.com/xxkohxx','/in/expCalvinKing'],\n",
    "    'Jason Borne': ['jbourne@topsecret.com', 'xxx-xxx-xxxx','bourneidentity.com','redacted'],\n",
    "    'Michael Scott': ['mscott@dundermifflin', '800-627-0114','www.sceendy.com','redacted'],\n",
    "    'Jim Halpert': ['jhalpert@dundermifflin','800-627-0114','www.sceendy.com','redacted'],\n",
    "}\n",
    "\n",
    "pprCo = pd.DataFrame(contact_info)\n",
    "\n",
    "pprCo"
   ]
  },
  {
   "cell_type": "markdown",
   "id": "91c0c62c",
   "metadata": {},
   "source": [
    "<hr>\n",
    "\n",
    "- [Back to Top](#top)\n",
    "<a class='anchor' id='tuples'></a>\n",
    "<h2>Using Tuples [ (List) ]</h2>\n",
    "\n",
    "By using a tuple list, you can also create a DataFrame like: \n",
    "\n",
    "<code>Tuple = [ (Col1,Col2,Col3)]</code> and create the DataFrame like:\n",
    "\n",
    "<code>df = pd.DataFrame(Tuple, columns=['Col1_Name', 'Col2_Name', 'Col3_Name'])</code>"
   ]
  },
  {
   "cell_type": "code",
   "execution_count": 46,
   "id": "abceeddb",
   "metadata": {},
   "outputs": [
    {
     "data": {
      "text/html": [
       "<div>\n",
       "<style scoped>\n",
       "    .dataframe tbody tr th:only-of-type {\n",
       "        vertical-align: middle;\n",
       "    }\n",
       "\n",
       "    .dataframe tbody tr th {\n",
       "        vertical-align: top;\n",
       "    }\n",
       "\n",
       "    .dataframe thead th {\n",
       "        text-align: right;\n",
       "    }\n",
       "</style>\n",
       "<table border=\"1\" class=\"dataframe\">\n",
       "  <thead>\n",
       "    <tr style=\"text-align: right;\">\n",
       "      <th></th>\n",
       "      <th>day</th>\n",
       "      <th>temperature</th>\n",
       "      <th>windspeed</th>\n",
       "      <th>event</th>\n",
       "    </tr>\n",
       "  </thead>\n",
       "  <tbody>\n",
       "    <tr>\n",
       "      <th>0</th>\n",
       "      <td>1/1/2017</td>\n",
       "      <td>32</td>\n",
       "      <td>6</td>\n",
       "      <td>Rain</td>\n",
       "    </tr>\n",
       "    <tr>\n",
       "      <th>1</th>\n",
       "      <td>1/2/2017</td>\n",
       "      <td>35</td>\n",
       "      <td>7</td>\n",
       "      <td>Sunny</td>\n",
       "    </tr>\n",
       "    <tr>\n",
       "      <th>2</th>\n",
       "      <td>1/3/2017</td>\n",
       "      <td>28</td>\n",
       "      <td>2</td>\n",
       "      <td>Snow</td>\n",
       "    </tr>\n",
       "  </tbody>\n",
       "</table>\n",
       "</div>"
      ],
      "text/plain": [
       "        day  temperature  windspeed  event\n",
       "0  1/1/2017           32          6   Rain\n",
       "1  1/2/2017           35          7  Sunny\n",
       "2  1/3/2017           28          2   Snow"
      ]
     },
     "execution_count": 46,
     "metadata": {},
     "output_type": "execute_result"
    }
   ],
   "source": [
    "tupl = [\n",
    "    ('1/1/2017',32,6,'Rain'),\n",
    "    ('1/2/2017',35,7,'Sunny'),\n",
    "    ('1/3/2017',28,2,'Snow')\n",
    "]\n",
    "\n",
    "tupl = pd.DataFrame(tupl, columns=['day','temperature','windspeed','event'])\n",
    "tupl"
   ]
  },
  {
   "cell_type": "markdown",
   "id": "d2c7209d",
   "metadata": {},
   "source": [
    "<hr>\n",
    "\n",
    "- [Back to Top](#top)\n",
    "<a class='anchor' id='list'></a>\n",
    "<h2>Using List of Dictionaries</h2>\n",
    "\n",
    "A final way is to use a list of dictionaries like: \n",
    "\n",
    "<code>var_name = [ {COL1_Title : 'COL2_Data', 'COL2_Title' : 'COL2_Data' }  ]</code> and calling it like: \n",
    "\n",
    "<code> df = pd.DataFrame(var_name)</code>"
   ]
  },
  {
   "cell_type": "code",
   "execution_count": 48,
   "id": "b20904fa",
   "metadata": {},
   "outputs": [
    {
     "data": {
      "text/html": [
       "<div>\n",
       "<style scoped>\n",
       "    .dataframe tbody tr th:only-of-type {\n",
       "        vertical-align: middle;\n",
       "    }\n",
       "\n",
       "    .dataframe tbody tr th {\n",
       "        vertical-align: top;\n",
       "    }\n",
       "\n",
       "    .dataframe thead th {\n",
       "        text-align: right;\n",
       "    }\n",
       "</style>\n",
       "<table border=\"1\" class=\"dataframe\">\n",
       "  <thead>\n",
       "    <tr style=\"text-align: right;\">\n",
       "      <th></th>\n",
       "      <th>Fruit</th>\n",
       "      <th>Size</th>\n",
       "      <th>Color</th>\n",
       "      <th>Sweetness</th>\n",
       "    </tr>\n",
       "  </thead>\n",
       "  <tbody>\n",
       "    <tr>\n",
       "      <th>0</th>\n",
       "      <td>Melon</td>\n",
       "      <td>5cm</td>\n",
       "      <td>Beige</td>\n",
       "      <td>Semi</td>\n",
       "    </tr>\n",
       "    <tr>\n",
       "      <th>1</th>\n",
       "      <td>Tomato</td>\n",
       "      <td>2cm</td>\n",
       "      <td>Red</td>\n",
       "      <td>Semi</td>\n",
       "    </tr>\n",
       "    <tr>\n",
       "      <th>2</th>\n",
       "      <td>Pear</td>\n",
       "      <td>3cm</td>\n",
       "      <td>Autumn</td>\n",
       "      <td>Semi</td>\n",
       "    </tr>\n",
       "    <tr>\n",
       "      <th>3</th>\n",
       "      <td>Grape</td>\n",
       "      <td>1cm</td>\n",
       "      <td>Purple</td>\n",
       "      <td>Very</td>\n",
       "    </tr>\n",
       "  </tbody>\n",
       "</table>\n",
       "</div>"
      ],
      "text/plain": [
       "    Fruit Size   Color Sweetness\n",
       "0   Melon  5cm   Beige      Semi\n",
       "1  Tomato  2cm     Red      Semi\n",
       "2    Pear  3cm  Autumn      Semi\n",
       "3   Grape  1cm  Purple      Very"
      ]
     },
     "execution_count": 48,
     "metadata": {},
     "output_type": "execute_result"
    }
   ],
   "source": [
    "var1 = [\n",
    "    {'Fruit':'Melon', 'Size':'5cm','Color':'Beige','Sweetness':'Semi'},\n",
    "    {'Fruit':'Tomato', 'Size':'2cm','Color':'Red','Sweetness':'Semi'},\n",
    "    {'Fruit':'Pear', 'Size':'3cm','Color':'Autumn','Sweetness':'Semi'},\n",
    "    {'Fruit':'Grape', 'Size':'1cm','Color':'Purple','Sweetness':'Very'}\n",
    "]\n",
    "\n",
    "var1 = pd.DataFrame(var1)\n",
    "var1"
   ]
  },
  {
   "cell_type": "markdown",
   "id": "a5ab93df",
   "metadata": {},
   "source": [
    "<hr>\n",
    "\n",
    "- [Back to Top](#top)\n",
    "<a class='anchor' id='other'></a>\n",
    "<h2>Other Ways</h2>"
   ]
  },
  {
   "cell_type": "markdown",
   "id": "c2f7f30c",
   "metadata": {},
   "source": [
    "<a href=\"https://pandas.pydata.org/docs/user_guide/io.html\"><h3>Pandas.Io Documentation</h3></a>\n"
   ]
  },
  {
   "cell_type": "code",
   "execution_count": null,
   "id": "b16fbccb",
   "metadata": {},
   "outputs": [],
   "source": []
  }
 ],
 "metadata": {
  "kernelspec": {
   "display_name": "Python 3 (ipykernel)",
   "language": "python",
   "name": "python3"
  },
  "language_info": {
   "codemirror_mode": {
    "name": "ipython",
    "version": 3
   },
   "file_extension": ".py",
   "mimetype": "text/x-python",
   "name": "python",
   "nbconvert_exporter": "python",
   "pygments_lexer": "ipython3",
   "version": "3.9.7"
  }
 },
 "nbformat": 4,
 "nbformat_minor": 5
}
