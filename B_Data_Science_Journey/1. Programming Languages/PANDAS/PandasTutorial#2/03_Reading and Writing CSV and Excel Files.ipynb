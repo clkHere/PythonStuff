{
 "cells": [
  {
   "cell_type": "markdown",
   "id": "f64bbe81",
   "metadata": {},
   "source": [
    "<a class='anchor' id='top'></a>\n",
    "<h1>Reading and Writing CSV and Excel Files</h1>\n",
    "\n",
    "\n",
    "<h2> Contents</h2>\n",
    "\n",
    "* [Read CSV](#rCSV)\n",
    "* [Write CSV](#wCSV)\n",
    "* [Read Excel](#rExcel)\n",
    "* [Write Excel](#wExcel)\n",
    "\n",
    "<hr/>\n",
    "    "
   ]
  },
  {
   "cell_type": "code",
   "execution_count": 2,
   "id": "2b1e89c8",
   "metadata": {},
   "outputs": [],
   "source": [
    "import pandas as pd"
   ]
  },
  {
   "cell_type": "markdown",
   "id": "c7711356",
   "metadata": {},
   "source": [
    "* [back to top](#top)\n",
    "<a class='anchor' id='rCSV'></a>\n",
    "<h2>Read CSV</h2>\n",
    "\n",
    "You can clean up data as you import it with the <code>header=</code> and <code>na_values=()</code> methods. The <b>best</b> method so far is the creation of a 'dictionary' for the <code>na_values</code> function:"
   ]
  },
  {
   "cell_type": "code",
   "execution_count": 41,
   "id": "1ba326d1",
   "metadata": {},
   "outputs": [
    {
     "data": {
      "text/html": [
       "<div>\n",
       "<style scoped>\n",
       "    .dataframe tbody tr th:only-of-type {\n",
       "        vertical-align: middle;\n",
       "    }\n",
       "\n",
       "    .dataframe tbody tr th {\n",
       "        vertical-align: top;\n",
       "    }\n",
       "\n",
       "    .dataframe thead th {\n",
       "        text-align: right;\n",
       "    }\n",
       "</style>\n",
       "<table border=\"1\" class=\"dataframe\">\n",
       "  <thead>\n",
       "    <tr style=\"text-align: right;\">\n",
       "      <th></th>\n",
       "      <th>tickers</th>\n",
       "      <th>eps</th>\n",
       "      <th>revenue</th>\n",
       "      <th>price</th>\n",
       "      <th>people</th>\n",
       "    </tr>\n",
       "  </thead>\n",
       "  <tbody>\n",
       "    <tr>\n",
       "      <th>0</th>\n",
       "      <td>GOOGLE</td>\n",
       "      <td>27.82</td>\n",
       "      <td>87.0</td>\n",
       "      <td>845.0</td>\n",
       "      <td>larry page</td>\n",
       "    </tr>\n",
       "    <tr>\n",
       "      <th>1</th>\n",
       "      <td>WMT</td>\n",
       "      <td>4.61</td>\n",
       "      <td>484.0</td>\n",
       "      <td>65.0</td>\n",
       "      <td>NaN</td>\n",
       "    </tr>\n",
       "    <tr>\n",
       "      <th>2</th>\n",
       "      <td>MSFT</td>\n",
       "      <td>-1.00</td>\n",
       "      <td>85.0</td>\n",
       "      <td>64.0</td>\n",
       "      <td>bill gates</td>\n",
       "    </tr>\n",
       "    <tr>\n",
       "      <th>3</th>\n",
       "      <td>RIL</td>\n",
       "      <td>NaN</td>\n",
       "      <td>50.0</td>\n",
       "      <td>1023.0</td>\n",
       "      <td>mukesh ambani</td>\n",
       "    </tr>\n",
       "    <tr>\n",
       "      <th>4</th>\n",
       "      <td>TATA</td>\n",
       "      <td>5.60</td>\n",
       "      <td>NaN</td>\n",
       "      <td>NaN</td>\n",
       "      <td>ratan tata</td>\n",
       "    </tr>\n",
       "  </tbody>\n",
       "</table>\n",
       "</div>"
      ],
      "text/plain": [
       "  tickers    eps  revenue   price         people\n",
       "0  GOOGLE  27.82     87.0   845.0     larry page\n",
       "1     WMT   4.61    484.0    65.0            NaN\n",
       "2    MSFT  -1.00     85.0    64.0     bill gates\n",
       "3     RIL    NaN     50.0  1023.0  mukesh ambani\n",
       "4    TATA   5.60      NaN     NaN     ratan tata"
      ]
     },
     "execution_count": 41,
     "metadata": {},
     "output_type": "execute_result"
    }
   ],
   "source": [
    "sd = pd.read_csv(r'C:\\Users\\Work\\Desktop\\Python Lessons\\Data Science\\Data Science w Py Course\\Data For Use\\stock_data.csv',\n",
    "                na_values={                    \n",
    "                    'eps': ['not available','n.a'],\n",
    "                    'revenue': ['not available','n.a', -1],\n",
    "                    'price': ['not available','n.a', -1],\n",
    "                    'people': ['not available','n.a'],\n",
    "                })\n",
    "sd"
   ]
  },
  {
   "cell_type": "markdown",
   "id": "2e75d627",
   "metadata": {},
   "source": [
    "<b>Clean up messy data using <code>.fillna(FILL_VAL)</code></b>"
   ]
  },
  {
   "cell_type": "markdown",
   "id": "155e5fb0",
   "metadata": {},
   "source": [
    "<b>Replace individual data using <code>df.col_name.replace([old_val)],new_val)</code></b>:"
   ]
  },
  {
   "cell_type": "code",
   "execution_count": 27,
   "id": "f5fb08c1",
   "metadata": {},
   "outputs": [
    {
     "data": {
      "text/plain": [
       "0     87\n",
       "1    484\n",
       "2     85\n",
       "3     50\n",
       "4      0\n",
       "Name: revenue, dtype: int64"
      ]
     },
     "execution_count": 27,
     "metadata": {},
     "output_type": "execute_result"
    }
   ],
   "source": [
    "sd.revenue = sd.revenue.replace([sd.revenue[sd.revenue==-1]],0)\n",
    "sd.revenue"
   ]
  },
  {
   "cell_type": "markdown",
   "id": "29a5ca06",
   "metadata": {},
   "source": [
    "<hr/>\n",
    "\n",
    "* [back to top](#top)\n",
    "\n",
    "<a class='anchor' id='wCSV'></a>\n",
    "<h2>Write CSV</h2>"
   ]
  },
  {
   "cell_type": "markdown",
   "id": "1ceb3119",
   "metadata": {},
   "source": [
    "To create a CSV file, you use the <code>df.to_csv('CSV_NAME.csv')</code> method. \n",
    "\n",
    "The file will automatically populate the CSV just like it looked in the DataFrame. \n",
    "\n",
    "To keep the index from being imported into the new csv file, just add the parameter <code>index=False</code>."
   ]
  },
  {
   "cell_type": "markdown",
   "id": "614da640",
   "metadata": {},
   "source": [
    "Write CSV Parameters: \n",
    "\n",
    "* <code>to_csv('', index=False)</code> : to export without indexes\n",
    "* <code>to_csv('', columns=[])</code> : specify which columns you want to export.\n",
    "* <code>to_csv('', header=False)</code> : to export without headers"
   ]
  },
  {
   "cell_type": "markdown",
   "id": "a6d2b52f",
   "metadata": {},
   "source": [
    "<hr/>\n",
    "\n",
    "* [back to top](#top)\n",
    "\n",
    "<a class='anchor' id='rCSV'></a>\n",
    "<h2>Read Excel</h2>"
   ]
  },
  {
   "cell_type": "code",
   "execution_count": 74,
   "id": "a9d02fde",
   "metadata": {},
   "outputs": [
    {
     "data": {
      "text/html": [
       "<div>\n",
       "<style scoped>\n",
       "    .dataframe tbody tr th:only-of-type {\n",
       "        vertical-align: middle;\n",
       "    }\n",
       "\n",
       "    .dataframe tbody tr th {\n",
       "        vertical-align: top;\n",
       "    }\n",
       "\n",
       "    .dataframe thead th {\n",
       "        text-align: right;\n",
       "    }\n",
       "</style>\n",
       "<table border=\"1\" class=\"dataframe\">\n",
       "  <thead>\n",
       "    <tr style=\"text-align: right;\">\n",
       "      <th></th>\n",
       "      <th>tickers</th>\n",
       "      <th>eps</th>\n",
       "      <th>revenue</th>\n",
       "      <th>price</th>\n",
       "      <th>people</th>\n",
       "    </tr>\n",
       "  </thead>\n",
       "  <tbody>\n",
       "    <tr>\n",
       "      <th>0</th>\n",
       "      <td>GOOGLE</td>\n",
       "      <td>27.82</td>\n",
       "      <td>87</td>\n",
       "      <td>845.0</td>\n",
       "      <td>larry page</td>\n",
       "    </tr>\n",
       "    <tr>\n",
       "      <th>1</th>\n",
       "      <td>WMT</td>\n",
       "      <td>4.61</td>\n",
       "      <td>484</td>\n",
       "      <td>65.0</td>\n",
       "      <td>NaN</td>\n",
       "    </tr>\n",
       "    <tr>\n",
       "      <th>2</th>\n",
       "      <td>MSFT</td>\n",
       "      <td>-1.00</td>\n",
       "      <td>85</td>\n",
       "      <td>64.0</td>\n",
       "      <td>bill gates</td>\n",
       "    </tr>\n",
       "    <tr>\n",
       "      <th>3</th>\n",
       "      <td>RIL</td>\n",
       "      <td>NaN</td>\n",
       "      <td>50</td>\n",
       "      <td>1023.0</td>\n",
       "      <td>mukesh ambani</td>\n",
       "    </tr>\n",
       "    <tr>\n",
       "      <th>4</th>\n",
       "      <td>TATA</td>\n",
       "      <td>5.60</td>\n",
       "      <td>-1</td>\n",
       "      <td>NaN</td>\n",
       "      <td>ratan tata</td>\n",
       "    </tr>\n",
       "  </tbody>\n",
       "</table>\n",
       "</div>"
      ],
      "text/plain": [
       "  tickers    eps  revenue   price         people\n",
       "0  GOOGLE  27.82       87   845.0     larry page\n",
       "1     WMT   4.61      484    65.0            NaN\n",
       "2    MSFT  -1.00       85    64.0     bill gates\n",
       "3     RIL    NaN       50  1023.0  mukesh ambani\n",
       "4    TATA   5.60       -1     NaN     ratan tata"
      ]
     },
     "execution_count": 74,
     "metadata": {},
     "output_type": "execute_result"
    }
   ],
   "source": [
    "def convert_people_cell(cell):\n",
    "    if cell=='n.a.' or cell=='NaN':\n",
    "        return 'sam walton'\n",
    "    return cell\n",
    "\n",
    "ds = pd.read_excel(r'C:\\Users\\Work\\Desktop\\Python Lessons\\Data Science\\Data Science w Py Course\\Data For Use\\data_stock.xlsx',\n",
    "                   'stock_data', converters = {\n",
    "                       'people': convert_people_cell\n",
    "                   })\n",
    "ds"
   ]
  },
  {
   "cell_type": "markdown",
   "id": "1e8e29c0",
   "metadata": {},
   "source": [
    "<b>Converter Function to clean data</b>"
   ]
  },
  {
   "cell_type": "code",
   "execution_count": 71,
   "id": "017642ad",
   "metadata": {},
   "outputs": [
    {
     "data": {
      "text/plain": [
       "0       larry page\n",
       "1              NaN\n",
       "2       bill gates\n",
       "3    mukesh ambani\n",
       "4       ratan tata\n",
       "Name: people, dtype: object"
      ]
     },
     "execution_count": 71,
     "metadata": {},
     "output_type": "execute_result"
    }
   ],
   "source": [
    "\n",
    "\n"
   ]
  },
  {
   "cell_type": "code",
   "execution_count": 68,
   "id": "c00da2ee",
   "metadata": {},
   "outputs": [
    {
     "ename": "SyntaxError",
     "evalue": "positional argument follows keyword argument (Temp/ipykernel_4860/439656048.py, line 3)",
     "output_type": "error",
     "traceback": [
      "\u001b[1;36m  File \u001b[1;32m\"C:\\Users\\Work\\AppData\\Local\\Temp/ipykernel_4860/439656048.py\"\u001b[1;36m, line \u001b[1;32m3\u001b[0m\n\u001b[1;33m    },1)\u001b[0m\n\u001b[1;37m       ^\u001b[0m\n\u001b[1;31mSyntaxError\u001b[0m\u001b[1;31m:\u001b[0m positional argument follows keyword argument\n"
     ]
    }
   ],
   "source": []
  },
  {
   "cell_type": "markdown",
   "id": "fbe09f19",
   "metadata": {},
   "source": [
    "<hr/>\n",
    "\n",
    "* [back to top](#top)\n",
    "\n",
    "<a class='anchor' id='rCSV'></a>\n",
    "<h2>Write Excel</h2>"
   ]
  },
  {
   "cell_type": "markdown",
   "id": "9585b5f6",
   "metadata": {},
   "source": [
    "To write an Excel file, you use simply use the <code>df.to_excel('new.xlsx', sheet_name=\"NAME\", startrow=1,startcol=2, index=False)</code> method.\n",
    "\n",
    "If you want to write two or more separate DataFrames to excel, then you'd use the <code>pd.ExcelWriter()</code> method.\n",
    "\n",
    "Sytax:<br> \n",
    "<code> with pd.ExcelWriter() as writer:\n",
    "         df_Name1.to_excel(writer, sheet_name='NAME')\n",
    "         df_Name2.to_excel(writer, sheet_name='NAME2')\n",
    "         ...</code>"
   ]
  }
 ],
 "metadata": {
  "kernelspec": {
   "display_name": "Python 3 (ipykernel)",
   "language": "python",
   "name": "python3"
  },
  "language_info": {
   "codemirror_mode": {
    "name": "ipython",
    "version": 3
   },
   "file_extension": ".py",
   "mimetype": "text/x-python",
   "name": "python",
   "nbconvert_exporter": "python",
   "pygments_lexer": "ipython3",
   "version": "3.9.7"
  }
 },
 "nbformat": 4,
 "nbformat_minor": 5
}
