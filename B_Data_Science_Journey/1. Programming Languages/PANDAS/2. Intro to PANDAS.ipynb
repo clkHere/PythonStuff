{
 "cells": [
  {
   "cell_type": "markdown",
   "id": "8d92f08a",
   "metadata": {},
   "source": [
    "<h1>Pandas Introduction</h1>\n"
   ]
  },
  {
   "cell_type": "markdown",
   "id": "67bf7182",
   "metadata": {},
   "source": [
    "Pandas is the most important library used in Data Analysis using Python.\n",
    "\n",
    "1. Get all the data (DBs, Excel, CSV, JSON)\n",
    "2. Process the data (Combine, Merge, Analyze)\n",
    "3. Visualize the data \n",
    "4. Create Reports\n",
    "5. Statistical Analysis"
   ]
  },
  {
   "cell_type": "markdown",
   "id": "528099cd",
   "metadata": {},
   "source": [
    "<h3> Panda Data Structures </h3>\n"
   ]
  },
  {
   "cell_type": "markdown",
   "id": "b5194729",
   "metadata": {},
   "source": [
    "<b>Import Pandas and Numpy</b>"
   ]
  },
  {
   "cell_type": "code",
   "execution_count": 1,
   "id": "cfc78bf0",
   "metadata": {},
   "outputs": [],
   "source": [
    "import pandas as pd\n",
    "import numpy as np"
   ]
  },
  {
   "cell_type": "markdown",
   "id": "c2145d00",
   "metadata": {},
   "source": [
    "<b>Pandas Series</b>"
   ]
  },
  {
   "cell_type": "markdown",
   "id": "c8276db6",
   "metadata": {},
   "source": [
    "<p>We'll analyze 'The Group of Seven', formed by several countries.\n",
    "    We'll start by analyzing population using a <b>pandas.Series</b> object.</p>"
   ]
  },
  {
   "cell_type": "code",
   "execution_count": 15,
   "id": "68b48f73",
   "metadata": {},
   "outputs": [],
   "source": [
    "#In millions\n",
    "g7_pop = pd.Series([35.467, 63.951, 80.940, 60.665, 127.061, 64.511, 318.523])"
   ]
  },
  {
   "cell_type": "code",
   "execution_count": 16,
   "id": "e891733e",
   "metadata": {},
   "outputs": [
    {
     "data": {
      "text/plain": [
       "0     35.467\n",
       "1     63.951\n",
       "2     80.940\n",
       "3     60.665\n",
       "4    127.061\n",
       "5     64.511\n",
       "6    318.523\n",
       "dtype: float64"
      ]
     },
     "execution_count": 16,
     "metadata": {},
     "output_type": "execute_result"
    }
   ],
   "source": [
    "g7_pop"
   ]
  },
  {
   "cell_type": "markdown",
   "id": "6e1fca4d",
   "metadata": {},
   "source": [
    "<p>We then add a <b>name</b> to the series to better document it.</p>"
   ]
  },
  {
   "cell_type": "code",
   "execution_count": 4,
   "id": "415cd7ee",
   "metadata": {},
   "outputs": [],
   "source": [
    "g7_pop.name = 'G7 Population in millions'"
   ]
  },
  {
   "cell_type": "code",
   "execution_count": 5,
   "id": "2a215383",
   "metadata": {},
   "outputs": [
    {
     "data": {
      "text/plain": [
       "0       35.467\n",
       "1    63951.000\n",
       "2       80.940\n",
       "3       60.665\n",
       "4      177.061\n",
       "5       64.511\n",
       "6      318.523\n",
       "Name: G7 Population in millions, dtype: float64"
      ]
     },
     "execution_count": 5,
     "metadata": {},
     "output_type": "execute_result"
    }
   ],
   "source": [
    "g7_pop"
   ]
  },
  {
   "cell_type": "markdown",
   "id": "8409f54d",
   "metadata": {},
   "source": [
    "<p>Series are similar to numpy arrays:</p>"
   ]
  },
  {
   "cell_type": "code",
   "execution_count": 6,
   "id": "d368e6ee",
   "metadata": {},
   "outputs": [
    {
     "data": {
      "text/plain": [
       "dtype('float64')"
      ]
     },
     "execution_count": 6,
     "metadata": {},
     "output_type": "execute_result"
    }
   ],
   "source": [
    "g7_pop.dtype"
   ]
  },
  {
   "cell_type": "code",
   "execution_count": 7,
   "id": "6b75d1cc",
   "metadata": {},
   "outputs": [
    {
     "data": {
      "text/plain": [
       "array([3.54670e+01, 6.39510e+04, 8.09400e+01, 6.06650e+01, 1.77061e+02,\n",
       "       6.45110e+01, 3.18523e+02])"
      ]
     },
     "execution_count": 7,
     "metadata": {},
     "output_type": "execute_result"
    }
   ],
   "source": [
    "g7_pop.values"
   ]
  },
  {
   "cell_type": "markdown",
   "id": "16b88005",
   "metadata": {},
   "source": [
    "They're actually backed by numpy arrays: "
   ]
  },
  {
   "cell_type": "code",
   "execution_count": 8,
   "id": "6b61a212",
   "metadata": {},
   "outputs": [
    {
     "data": {
      "text/plain": [
       "numpy.ndarray"
      ]
     },
     "execution_count": 8,
     "metadata": {},
     "output_type": "execute_result"
    }
   ],
   "source": [
    "type(g7_pop.values)"
   ]
  },
  {
   "cell_type": "markdown",
   "id": "26ff8f5c",
   "metadata": {},
   "source": [
    "And they look like simple Python lists or Numpy Arrays. But they're actually more similar to Python <b>dict's</b>. \n",
    "\n",
    "A series has an <b>index</b>, that's similar to the automatic index assigned t Python's lists: "
   ]
  },
  {
   "cell_type": "code",
   "execution_count": 14,
   "id": "e392d33f",
   "metadata": {},
   "outputs": [
    {
     "data": {
      "text/plain": [
       "Japan                35.467\n",
       "United Kingdom    63951.000\n",
       "United States        80.940\n",
       "Italy                60.665\n",
       "France              177.061\n",
       "Canada               64.511\n",
       "Germany             318.523\n",
       "Name: G7 Population in millions, dtype: float64"
      ]
     },
     "execution_count": 14,
     "metadata": {},
     "output_type": "execute_result"
    }
   ],
   "source": [
    "g7_pop"
   ]
  },
  {
   "cell_type": "code",
   "execution_count": 9,
   "id": "1f2c989c",
   "metadata": {},
   "outputs": [
    {
     "data": {
      "text/plain": [
       "35.467"
      ]
     },
     "execution_count": 9,
     "metadata": {},
     "output_type": "execute_result"
    }
   ],
   "source": [
    "g7_pop[0]"
   ]
  },
  {
   "cell_type": "code",
   "execution_count": 10,
   "id": "901b7fd9",
   "metadata": {},
   "outputs": [
    {
     "data": {
      "text/plain": [
       "63951.0"
      ]
     },
     "execution_count": 10,
     "metadata": {},
     "output_type": "execute_result"
    }
   ],
   "source": [
    "g7_pop[1]"
   ]
  },
  {
   "cell_type": "code",
   "execution_count": 11,
   "id": "d712d2cd",
   "metadata": {},
   "outputs": [
    {
     "data": {
      "text/plain": [
       "RangeIndex(start=0, stop=7, step=1)"
      ]
     },
     "execution_count": 11,
     "metadata": {},
     "output_type": "execute_result"
    }
   ],
   "source": [
    "g7_pop.index"
   ]
  },
  {
   "cell_type": "markdown",
   "id": "1e979861",
   "metadata": {},
   "source": [
    "But in contrast to lists, we can <u><b>explicitly define the index</b></u>: "
   ]
  },
  {
   "cell_type": "code",
   "execution_count": 18,
   "id": "01b58a61",
   "metadata": {},
   "outputs": [],
   "source": [
    "g7_pop.index = {\n",
    "    'Canada',\n",
    "    'France', \n",
    "    'Germany', \n",
    "    'Italy', \n",
    "    'Japan', \n",
    "    'United Kingdom', \n",
    "    'United States',\n",
    "}"
   ]
  },
  {
   "cell_type": "code",
   "execution_count": 19,
   "id": "9bfefd73",
   "metadata": {},
   "outputs": [
    {
     "data": {
      "text/plain": [
       "Japan              35.467\n",
       "United Kingdom     63.951\n",
       "United States      80.940\n",
       "Italy              60.665\n",
       "France            127.061\n",
       "Canada             64.511\n",
       "Germany           318.523\n",
       "dtype: float64"
      ]
     },
     "execution_count": 19,
     "metadata": {},
     "output_type": "execute_result"
    }
   ],
   "source": [
    "g7_pop"
   ]
  },
  {
   "cell_type": "markdown",
   "id": "ff87b43a",
   "metadata": {},
   "source": [
    "We can say that Series look like 'ordered dictionaries' and can actually <b>create Series out of dictionaries</b>: "
   ]
  },
  {
   "cell_type": "code",
   "execution_count": 62,
   "id": "a77c06b2",
   "metadata": {},
   "outputs": [],
   "source": [
    "g7_pop = pd.Series({\n",
    "    'Canada': 35.467,\n",
    "    'France': 63.951, \n",
    "    'Germany': 80.94, \n",
    "    'Italy': 60.665,\n",
    "    'Japan': 127.061,\n",
    "    'United Kingdom': 64.511, \n",
    "    'United States': 318.523\n",
    "})"
   ]
  },
  {
   "cell_type": "code",
   "execution_count": 63,
   "id": "ab59543d",
   "metadata": {},
   "outputs": [],
   "source": [
    "g7_pop.name = 'G7 Population in millions'"
   ]
  },
  {
   "cell_type": "code",
   "execution_count": 64,
   "id": "8d5cd4f3",
   "metadata": {},
   "outputs": [
    {
     "data": {
      "text/plain": [
       "Canada             35.467\n",
       "France             63.951\n",
       "Germany            80.940\n",
       "Italy              60.665\n",
       "Japan             127.061\n",
       "United Kingdom     64.511\n",
       "United States     318.523\n",
       "Name: G7 Population in millions, dtype: float64"
      ]
     },
     "execution_count": 64,
     "metadata": {},
     "output_type": "execute_result"
    }
   ],
   "source": [
    "g7_pop"
   ]
  },
  {
   "cell_type": "markdown",
   "id": "15753a1e",
   "metadata": {},
   "source": [
    "You can also <b>create everything in one simple flow</b>: <br><br>\n",
    "<b>(1) -</b> [Bracket values]<br>\n",
    "<b>(2) -</b> index = [KEYS]<br>\n",
    "<b>(3) -</b> name = 'NAME'"
   ]
  },
  {
   "cell_type": "code",
   "execution_count": 26,
   "id": "765fa56d",
   "metadata": {},
   "outputs": [
    {
     "data": {
      "text/plain": [
       "First     1\n",
       "Second    2\n",
       "Third     3\n",
       "Fourth    4\n",
       "Fifth     5\n",
       "Sixth     6\n",
       "Name: Placement Names, dtype: int64"
      ]
     },
     "execution_count": 26,
     "metadata": {},
     "output_type": "execute_result"
    }
   ],
   "source": [
    "pd.Series(\n",
    "    [1,2,3,4,5,6],\n",
    "    index = ['First', 'Second', 'Third', 'Fourth', 'Fifth', 'Sixth'],\n",
    "    name = 'Placement Names'\n",
    ")"
   ]
  },
  {
   "cell_type": "markdown",
   "id": "3c900913",
   "metadata": {},
   "source": [
    "<u>And you can also create pd.Series out of other series by specifying indexes</u>:"
   ]
  },
  {
   "cell_type": "code",
   "execution_count": 27,
   "id": "91f7f862",
   "metadata": {},
   "outputs": [
    {
     "data": {
      "text/plain": [
       "France     63.951\n",
       "Germany    80.940\n",
       "Italy      60.665\n",
       "Spain         NaN\n",
       "Name: G7 Population in millions, dtype: float64"
      ]
     },
     "execution_count": 27,
     "metadata": {},
     "output_type": "execute_result"
    }
   ],
   "source": [
    "pd.Series(g7_pop, index=['France', 'Germany', 'Italy', 'Spain'])"
   ]
  },
  {
   "cell_type": "markdown",
   "id": "4233e841",
   "metadata": {},
   "source": [
    "<i>You can then assign the info to variable</i>"
   ]
  },
  {
   "cell_type": "markdown",
   "id": "e2f30951",
   "metadata": {},
   "source": [
    "<h3> Indexing </h3>"
   ]
  },
  {
   "cell_type": "code",
   "execution_count": 32,
   "id": "d3d3bcb7",
   "metadata": {},
   "outputs": [
    {
     "data": {
      "text/plain": [
       "35.467"
      ]
     },
     "execution_count": 32,
     "metadata": {},
     "output_type": "execute_result"
    }
   ],
   "source": [
    "g7_pop['Canada'] #What's the population of Canada?"
   ]
  },
  {
   "cell_type": "code",
   "execution_count": 33,
   "id": "dbce118b",
   "metadata": {},
   "outputs": [
    {
     "data": {
      "text/plain": [
       "127.061"
      ]
     },
     "execution_count": 33,
     "metadata": {},
     "output_type": "execute_result"
    }
   ],
   "source": [
    "g7_pop['Japan'] #What's the population of Japan?"
   ]
  },
  {
   "cell_type": "markdown",
   "id": "b5a88631",
   "metadata": {},
   "source": [
    "<p>Numeric positions can also be used with the <b>iloc</b> attribute</p>:"
   ]
  },
  {
   "cell_type": "code",
   "execution_count": 35,
   "id": "409db52c",
   "metadata": {},
   "outputs": [
    {
     "data": {
      "text/plain": [
       "35.467"
      ]
     },
     "execution_count": 35,
     "metadata": {},
     "output_type": "execute_result"
    }
   ],
   "source": [
    "g7_pop.iloc[0] #iloc means 'Index Location'"
   ]
  },
  {
   "cell_type": "code",
   "execution_count": 31,
   "id": "0c11b43a",
   "metadata": {},
   "outputs": [
    {
     "data": {
      "text/plain": [
       "318.523"
      ]
     },
     "execution_count": 31,
     "metadata": {},
     "output_type": "execute_result"
    }
   ],
   "source": [
    "g7_pop.iloc[-1]"
   ]
  },
  {
   "cell_type": "markdown",
   "id": "d95a66c1",
   "metadata": {},
   "source": [
    "<u>Select multiple elements at once</u>:"
   ]
  },
  {
   "cell_type": "code",
   "execution_count": 34,
   "id": "f1892ee8",
   "metadata": {},
   "outputs": [
    {
     "data": {
      "text/plain": [
       "Italy     60.665\n",
       "France    63.951\n",
       "Name: G7 Population in millions, dtype: float64"
      ]
     },
     "execution_count": 34,
     "metadata": {},
     "output_type": "execute_result"
    }
   ],
   "source": [
    "g7_pop[['Italy', 'France']]"
   ]
  },
  {
   "cell_type": "markdown",
   "id": "2c51f01b",
   "metadata": {},
   "source": [
    "<i>The result is another series</i>"
   ]
  },
  {
   "cell_type": "code",
   "execution_count": 36,
   "id": "cc73481b",
   "metadata": {},
   "outputs": [
    {
     "data": {
      "text/plain": [
       "Canada    35.467\n",
       "France    63.951\n",
       "Name: G7 Population in millions, dtype: float64"
      ]
     },
     "execution_count": 36,
     "metadata": {},
     "output_type": "execute_result"
    }
   ],
   "source": [
    "g7_pop[[0,1]]"
   ]
  },
  {
   "cell_type": "code",
   "execution_count": 37,
   "id": "5d2b5025",
   "metadata": {},
   "outputs": [
    {
     "data": {
      "text/plain": [
       "Canada    35.467\n",
       "Italy     60.665\n",
       "Name: G7 Population in millions, dtype: float64"
      ]
     },
     "execution_count": 37,
     "metadata": {},
     "output_type": "execute_result"
    }
   ],
   "source": [
    "g7_pop[['Canada', 'Italy']]"
   ]
  },
  {
   "cell_type": "markdown",
   "id": "92d9f32e",
   "metadata": {},
   "source": [
    "<h3>Conditional Selection (boolean arrays)</h3>\n",
    "<p>The same boolean array techniques in Numpy can be used for Pandas <b>series</b>:</p>"
   ]
  },
  {
   "cell_type": "code",
   "execution_count": 38,
   "id": "39a35b6b",
   "metadata": {},
   "outputs": [
    {
     "data": {
      "text/plain": [
       "Canada             35.467\n",
       "France             63.951\n",
       "Germany            80.940\n",
       "Italy              60.665\n",
       "Japan             127.061\n",
       "United Kingdom     64.511\n",
       "United States     318.523\n",
       "Name: G7 Population in millions, dtype: float64"
      ]
     },
     "execution_count": 38,
     "metadata": {},
     "output_type": "execute_result"
    }
   ],
   "source": [
    "g7_pop"
   ]
  },
  {
   "cell_type": "code",
   "execution_count": 69,
   "id": "238e768a",
   "metadata": {},
   "outputs": [
    {
     "data": {
      "text/plain": [
       "Canada            False\n",
       "France            False\n",
       "Germany            True\n",
       "Italy             False\n",
       "Japan              True\n",
       "United Kingdom    False\n",
       "United States      True\n",
       "Name: G7 Population in millions, dtype: bool"
      ]
     },
     "execution_count": 69,
     "metadata": {},
     "output_type": "execute_result"
    }
   ],
   "source": [
    "g7_pop > 70 # What countries have more than 70 mil citizens?"
   ]
  },
  {
   "cell_type": "code",
   "execution_count": 70,
   "id": "c326034c",
   "metadata": {},
   "outputs": [
    {
     "data": {
      "text/plain": [
       "Germany           80.940\n",
       "Japan            127.061\n",
       "United States    318.523\n",
       "Name: G7 Population in millions, dtype: float64"
      ]
     },
     "execution_count": 70,
     "metadata": {},
     "output_type": "execute_result"
    }
   ],
   "source": [
    "g7_pop[g7_pop > 70] # Show me the total # of citizens in countries with more than 70 mil citizens"
   ]
  },
  {
   "cell_type": "code",
   "execution_count": 41,
   "id": "3cceac4b",
   "metadata": {},
   "outputs": [
    {
     "data": {
      "text/plain": [
       "107.30257142857144"
      ]
     },
     "execution_count": 41,
     "metadata": {},
     "output_type": "execute_result"
    }
   ],
   "source": [
    "g7_pop.mean()"
   ]
  },
  {
   "cell_type": "code",
   "execution_count": 43,
   "id": "b2394145",
   "metadata": {},
   "outputs": [
    {
     "data": {
      "text/plain": [
       "97.24996987121581"
      ]
     },
     "execution_count": 43,
     "metadata": {},
     "output_type": "execute_result"
    }
   ],
   "source": [
    "g7_pop.std()"
   ]
  },
  {
   "cell_type": "code",
   "execution_count": 44,
   "id": "cf12b0eb",
   "metadata": {},
   "outputs": [
    {
     "data": {
      "text/plain": [
       "France             63.951\n",
       "Germany            80.940\n",
       "Italy              60.665\n",
       "Japan             127.061\n",
       "United Kingdom     64.511\n",
       "United States     318.523\n",
       "Name: G7 Population in millions, dtype: float64"
      ]
     },
     "execution_count": 44,
     "metadata": {},
     "output_type": "execute_result"
    }
   ],
   "source": [
    "g7_pop[(g7_pop > g7_pop.mean() - g7_pop.std() / 2) | (g7_pop > g7_pop.mean() + g7_pop.std() / 2)]"
   ]
  },
  {
   "cell_type": "markdown",
   "id": "5759d02a",
   "metadata": {},
   "source": [
    "<h3> Operations and Methods </h3>\n",
    "<p>Series also support vectorized operations and aggregation functions as Numpy:</p>"
   ]
  },
  {
   "cell_type": "code",
   "execution_count": 65,
   "id": "6148137e",
   "metadata": {},
   "outputs": [
    {
     "data": {
      "text/plain": [
       "Canada             35.467\n",
       "France             63.951\n",
       "Germany            80.940\n",
       "Italy              60.665\n",
       "Japan             127.061\n",
       "United Kingdom     64.511\n",
       "United States     318.523\n",
       "Name: G7 Population in millions, dtype: float64"
      ]
     },
     "execution_count": 65,
     "metadata": {},
     "output_type": "execute_result"
    }
   ],
   "source": [
    "g7_pop"
   ]
  },
  {
   "cell_type": "code",
   "execution_count": 72,
   "id": "cf717669",
   "metadata": {},
   "outputs": [
    {
     "data": {
      "text/plain": [
       "Canada             35467000.0\n",
       "France             63951000.0\n",
       "Germany            80940000.0\n",
       "Italy              60665000.0\n",
       "Japan             127061000.0\n",
       "United Kingdom     64511000.0\n",
       "United States     318523000.0\n",
       "Name: G7 Population in millions, dtype: float64"
      ]
     },
     "execution_count": 72,
     "metadata": {},
     "output_type": "execute_result"
    }
   ],
   "source": [
    "g7_pop * 1_000_000"
   ]
  },
  {
   "cell_type": "code",
   "execution_count": 67,
   "id": "b808967d",
   "metadata": {},
   "outputs": [
    {
     "data": {
      "text/plain": [
       "107.30257142857144"
      ]
     },
     "execution_count": 67,
     "metadata": {},
     "output_type": "execute_result"
    }
   ],
   "source": [
    "g7_pop.mean()"
   ]
  },
  {
   "cell_type": "code",
   "execution_count": 55,
   "id": "727fab9f",
   "metadata": {},
   "outputs": [
    {
     "data": {
      "text/plain": [
       "27.631021115928547"
      ]
     },
     "execution_count": 55,
     "metadata": {},
     "output_type": "execute_result"
    }
   ],
   "source": [
    "np.log(g7_pop)"
   ]
  },
  {
   "cell_type": "code",
   "execution_count": 68,
   "id": "97a36377",
   "metadata": {},
   "outputs": [
    {
     "data": {
      "text/plain": [
       "68.51866666666666"
      ]
     },
     "execution_count": 68,
     "metadata": {},
     "output_type": "execute_result"
    }
   ],
   "source": [
    "g7_pop['France':'Italy'].mean()"
   ]
  },
  {
   "cell_type": "markdown",
   "id": "c5f302b3",
   "metadata": {},
   "source": [
    "<h3>Boolean Arrays</h3>\n",
    "(Work in the same way as numpy)"
   ]
  },
  {
   "cell_type": "code",
   "execution_count": 73,
   "id": "923aa6b1",
   "metadata": {
    "scrolled": false
   },
   "outputs": [
    {
     "data": {
      "text/plain": [
       "Canada            False\n",
       "France            False\n",
       "Germany            True\n",
       "Italy             False\n",
       "Japan              True\n",
       "United Kingdom    False\n",
       "United States      True\n",
       "Name: G7 Population in millions, dtype: bool"
      ]
     },
     "execution_count": 73,
     "metadata": {},
     "output_type": "execute_result"
    }
   ],
   "source": [
    "g7_pop > 80"
   ]
  },
  {
   "cell_type": "code",
   "execution_count": 74,
   "id": "dc8ec4be",
   "metadata": {
    "scrolled": true
   },
   "outputs": [
    {
     "data": {
      "text/plain": [
       "Germany           80.940\n",
       "Japan            127.061\n",
       "United States    318.523\n",
       "Name: G7 Population in millions, dtype: float64"
      ]
     },
     "execution_count": 74,
     "metadata": {},
     "output_type": "execute_result"
    }
   ],
   "source": [
    "g7_pop[g7_pop > 80]"
   ]
  },
  {
   "cell_type": "code",
   "execution_count": 75,
   "id": "8dcdff96",
   "metadata": {
    "scrolled": true
   },
   "outputs": [
    {
     "data": {
      "text/plain": [
       "Canada            35.467\n",
       "Germany           80.940\n",
       "Japan            127.061\n",
       "United States    318.523\n",
       "Name: G7 Population in millions, dtype: float64"
      ]
     },
     "execution_count": 75,
     "metadata": {},
     "output_type": "execute_result"
    }
   ],
   "source": [
    "g7_pop[(g7_pop > 80) | (g7_pop < 40)]"
   ]
  },
  {
   "cell_type": "markdown",
   "id": "d8afcc66",
   "metadata": {},
   "source": [
    "<h3>Modifying Series</h3>"
   ]
  },
  {
   "cell_type": "code",
   "execution_count": 77,
   "id": "5d146ca5",
   "metadata": {},
   "outputs": [],
   "source": [
    "g7_pop['Canada'] = 40.5"
   ]
  },
  {
   "cell_type": "code",
   "execution_count": 78,
   "id": "16d16ad9",
   "metadata": {},
   "outputs": [
    {
     "data": {
      "text/plain": [
       "Canada             40.500\n",
       "France             63.951\n",
       "Germany            80.940\n",
       "Italy              60.665\n",
       "Japan             127.061\n",
       "United Kingdom     64.511\n",
       "United States     318.523\n",
       "Name: G7 Population in millions, dtype: float64"
      ]
     },
     "execution_count": 78,
     "metadata": {},
     "output_type": "execute_result"
    }
   ],
   "source": [
    "g7_pop"
   ]
  },
  {
   "cell_type": "code",
   "execution_count": 79,
   "id": "aa08dbf6",
   "metadata": {},
   "outputs": [],
   "source": [
    "g7_pop.iloc[-1] = 500"
   ]
  },
  {
   "cell_type": "code",
   "execution_count": 80,
   "id": "4e9e9f00",
   "metadata": {},
   "outputs": [
    {
     "data": {
      "text/plain": [
       "Canada             40.500\n",
       "France             63.951\n",
       "Germany            80.940\n",
       "Italy              60.665\n",
       "Japan             127.061\n",
       "United Kingdom     64.511\n",
       "United States     500.000\n",
       "Name: G7 Population in millions, dtype: float64"
      ]
     },
     "execution_count": 80,
     "metadata": {},
     "output_type": "execute_result"
    }
   ],
   "source": [
    "g7_pop"
   ]
  },
  {
   "cell_type": "code",
   "execution_count": 81,
   "id": "2a99fb14",
   "metadata": {},
   "outputs": [],
   "source": [
    "g7_pop[g7_pop < 70] = 99.99"
   ]
  },
  {
   "cell_type": "code",
   "execution_count": 82,
   "id": "09c1d421",
   "metadata": {},
   "outputs": [
    {
     "data": {
      "text/plain": [
       "Canada             99.990\n",
       "France             99.990\n",
       "Germany            80.940\n",
       "Italy              99.990\n",
       "Japan             127.061\n",
       "United Kingdom     99.990\n",
       "United States     500.000\n",
       "Name: G7 Population in millions, dtype: float64"
      ]
     },
     "execution_count": 82,
     "metadata": {},
     "output_type": "execute_result"
    }
   ],
   "source": [
    "g7_pop"
   ]
  }
 ],
 "metadata": {
  "kernelspec": {
   "display_name": "Python 3 (ipykernel)",
   "language": "python",
   "name": "python3"
  },
  "language_info": {
   "codemirror_mode": {
    "name": "ipython",
    "version": 3
   },
   "file_extension": ".py",
   "mimetype": "text/x-python",
   "name": "python",
   "nbconvert_exporter": "python",
   "pygments_lexer": "ipython3",
   "version": "3.9.7"
  }
 },
 "nbformat": 4,
 "nbformat_minor": 5
}
