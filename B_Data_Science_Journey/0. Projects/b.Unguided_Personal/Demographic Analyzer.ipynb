{
 "cells": [
  {
   "cell_type": "code",
   "execution_count": 41,
   "id": "b7ec67c2",
   "metadata": {},
   "outputs": [],
   "source": [
    "import numpy as np \n",
    "import pandas as pd \n",
    "pd.options.display.float_format = '{:,.1f}'.format\n",
    "df = pd.read_csv(r'C:\\Users\\Work\\Desktop\\Python Lessons\\Data Science\\Data Science w Py Course\\Data For Use\\adult.data.csv')"
   ]
  },
  {
   "cell_type": "markdown",
   "id": "bfe688d4",
   "metadata": {},
   "source": [
    "<h1 align=\"center\">Demographic Data Analysis Project</h1>\n",
    "\n",
    "In this project I must analyze demographic data using Pandas. I'm given a dataset of demographic data that was extracted from the 1994 Census database. \n",
    "\n",
    "Here's a snapshot of the data:"
   ]
  },
  {
   "cell_type": "code",
   "execution_count": 82,
   "id": "4d694a4f",
   "metadata": {},
   "outputs": [
    {
     "data": {
      "text/html": [
       "<div>\n",
       "<style scoped>\n",
       "    .dataframe tbody tr th:only-of-type {\n",
       "        vertical-align: middle;\n",
       "    }\n",
       "\n",
       "    .dataframe tbody tr th {\n",
       "        vertical-align: top;\n",
       "    }\n",
       "\n",
       "    .dataframe thead th {\n",
       "        text-align: right;\n",
       "    }\n",
       "</style>\n",
       "<table border=\"1\" class=\"dataframe\">\n",
       "  <thead>\n",
       "    <tr style=\"text-align: right;\">\n",
       "      <th></th>\n",
       "      <th>age</th>\n",
       "      <th>workclass</th>\n",
       "      <th>fnlwgt</th>\n",
       "      <th>education</th>\n",
       "      <th>education-num</th>\n",
       "      <th>marital-status</th>\n",
       "      <th>occupation</th>\n",
       "      <th>relationship</th>\n",
       "      <th>race</th>\n",
       "      <th>sex</th>\n",
       "      <th>capital-gain</th>\n",
       "      <th>capital-loss</th>\n",
       "      <th>hours-per-week</th>\n",
       "      <th>native-country</th>\n",
       "      <th>salary</th>\n",
       "    </tr>\n",
       "  </thead>\n",
       "  <tbody>\n",
       "    <tr>\n",
       "      <th>0</th>\n",
       "      <td>39</td>\n",
       "      <td>State-gov</td>\n",
       "      <td>77516</td>\n",
       "      <td>Bachelors</td>\n",
       "      <td>13</td>\n",
       "      <td>Never-married</td>\n",
       "      <td>Adm-clerical</td>\n",
       "      <td>Not-in-family</td>\n",
       "      <td>White</td>\n",
       "      <td>Male</td>\n",
       "      <td>2174</td>\n",
       "      <td>0</td>\n",
       "      <td>40</td>\n",
       "      <td>United-States</td>\n",
       "      <td>&lt;=50K</td>\n",
       "    </tr>\n",
       "    <tr>\n",
       "      <th>1</th>\n",
       "      <td>50</td>\n",
       "      <td>Self-emp-not-inc</td>\n",
       "      <td>83311</td>\n",
       "      <td>Bachelors</td>\n",
       "      <td>13</td>\n",
       "      <td>Married-civ-spouse</td>\n",
       "      <td>Exec-managerial</td>\n",
       "      <td>Husband</td>\n",
       "      <td>White</td>\n",
       "      <td>Male</td>\n",
       "      <td>0</td>\n",
       "      <td>0</td>\n",
       "      <td>13</td>\n",
       "      <td>United-States</td>\n",
       "      <td>&lt;=50K</td>\n",
       "    </tr>\n",
       "    <tr>\n",
       "      <th>2</th>\n",
       "      <td>38</td>\n",
       "      <td>Private</td>\n",
       "      <td>215646</td>\n",
       "      <td>HS-grad</td>\n",
       "      <td>9</td>\n",
       "      <td>Divorced</td>\n",
       "      <td>Handlers-cleaners</td>\n",
       "      <td>Not-in-family</td>\n",
       "      <td>White</td>\n",
       "      <td>Male</td>\n",
       "      <td>0</td>\n",
       "      <td>0</td>\n",
       "      <td>40</td>\n",
       "      <td>United-States</td>\n",
       "      <td>&lt;=50K</td>\n",
       "    </tr>\n",
       "    <tr>\n",
       "      <th>3</th>\n",
       "      <td>53</td>\n",
       "      <td>Private</td>\n",
       "      <td>234721</td>\n",
       "      <td>11th</td>\n",
       "      <td>7</td>\n",
       "      <td>Married-civ-spouse</td>\n",
       "      <td>Handlers-cleaners</td>\n",
       "      <td>Husband</td>\n",
       "      <td>Black</td>\n",
       "      <td>Male</td>\n",
       "      <td>0</td>\n",
       "      <td>0</td>\n",
       "      <td>40</td>\n",
       "      <td>United-States</td>\n",
       "      <td>&lt;=50K</td>\n",
       "    </tr>\n",
       "    <tr>\n",
       "      <th>4</th>\n",
       "      <td>28</td>\n",
       "      <td>Private</td>\n",
       "      <td>338409</td>\n",
       "      <td>Bachelors</td>\n",
       "      <td>13</td>\n",
       "      <td>Married-civ-spouse</td>\n",
       "      <td>Prof-specialty</td>\n",
       "      <td>Wife</td>\n",
       "      <td>Black</td>\n",
       "      <td>Female</td>\n",
       "      <td>0</td>\n",
       "      <td>0</td>\n",
       "      <td>40</td>\n",
       "      <td>Cuba</td>\n",
       "      <td>&lt;=50K</td>\n",
       "    </tr>\n",
       "  </tbody>\n",
       "</table>\n",
       "</div>"
      ],
      "text/plain": [
       "   age         workclass  fnlwgt  education  education-num  \\\n",
       "0   39         State-gov   77516  Bachelors             13   \n",
       "1   50  Self-emp-not-inc   83311  Bachelors             13   \n",
       "2   38           Private  215646    HS-grad              9   \n",
       "3   53           Private  234721       11th              7   \n",
       "4   28           Private  338409  Bachelors             13   \n",
       "\n",
       "       marital-status         occupation   relationship   race     sex  \\\n",
       "0       Never-married       Adm-clerical  Not-in-family  White    Male   \n",
       "1  Married-civ-spouse    Exec-managerial        Husband  White    Male   \n",
       "2            Divorced  Handlers-cleaners  Not-in-family  White    Male   \n",
       "3  Married-civ-spouse  Handlers-cleaners        Husband  Black    Male   \n",
       "4  Married-civ-spouse     Prof-specialty           Wife  Black  Female   \n",
       "\n",
       "   capital-gain  capital-loss  hours-per-week native-country salary  \n",
       "0          2174             0              40  United-States  <=50K  \n",
       "1             0             0              13  United-States  <=50K  \n",
       "2             0             0              40  United-States  <=50K  \n",
       "3             0             0              40  United-States  <=50K  \n",
       "4             0             0              40           Cuba  <=50K  "
      ]
     },
     "execution_count": 82,
     "metadata": {},
     "output_type": "execute_result"
    }
   ],
   "source": [
    "df.head()"
   ]
  },
  {
   "cell_type": "markdown",
   "id": "8d47eceb",
   "metadata": {},
   "source": [
    "<hr/>\n",
    "Using Pandas, the following questions must be answered:\n",
    "\n",
    "- How many people of each race are represented in this dataset? This should be a Pandas series with race names as the index labels. (race column)\n",
    "\n",
    "- What is the average age of men?\n",
    "\n",
    "- What is the percentage of people who have a Bachelor's degree?\n",
    "\n",
    "- What percentage of people with advanced education (Bachelors, Masters, or Doctorate) make more than 50K?\n",
    "\n",
    "- What percentage of people without advanced education make more than 50K?\n",
    "\n",
    "- What is the minimum number of hours a person works per week?\n",
    "\n",
    "- What percentage of the people who work the minimum number of hours per week have a salary of more than 50K?\n",
    "\n",
    "- What country has the highest percentage of people that earn >50K and what is that percentage?\n",
    "\n",
    "- Identify the most popular occupation for those who earn >50K in India.\n",
    "\n",
    "    \n",
    "<hr/>\n",
    "\n",
    "<h3 align=\"center\">My Approach</h3>\n",
    "\n",
    "1. <h4><ins>Examining the DataFrame</ins></h4>\n",
    "In this phase I'll review key aspects of the data to see if the data looks fine as is, the dimensions, shape and summary of the DataFrame. Key methods used here will be: <code>.head() | .tail() | .shape | .info() | .describe() | .dtype</code>.\n",
    "\n",
    "2. <h4><ins>Data Drilldown</ins></h4>\n",
    "Here, I'll look to drill a far down into the data needed to start recovering potential formulas for the prompt answers. This will be guided largely by the pseudcode I previously created. \n",
    "\n",
    "3. <h4><ins>Flesh out my Pseudocode</ins></h4>\n",
    "\n",
    "\n",
    "```python\n",
    "def calculate_demographic_data(print_data=True):\n",
    " #Read data from file\n",
    " df = pd.read_csv('whateverFile')\n",
    "\n",
    "#How many people of each race are represented in this dataset? \n",
    "race_count = #A series that returns unique text for races and count of people using '.value_counts()'\n",
    "\n",
    "\n",
    "#What is the average age of men?\n",
    "\n",
    "## Get a filtered column of only 'Male' values\n",
    "## Find the mean age of all males\n",
    "average_age_men = # age_of_Males.mean()\n",
    "\n",
    "# What is the percentage of people who have a Bachelor's degree?\n",
    "\n",
    "## Filter the 'education' column to obtain only the number of Bachelor degrees via '.shape[0]\n",
    "## Obtain the total number of education row via '.shape[0]'\n",
    "## Divide Bachelor degree / All education\n",
    "percentage_bachelors = # bachelors/all*100\n",
    "\n",
    "# What percentage of people with advanced education (Bachelors, Masters, or Doctorate) make more than 50K?\n",
    "\n",
    "## Get total of all Bach,Mast,Dr.(BMD) in 'education' column\n",
    "## Find number of BMD who earn '>50K'\n",
    "## Divide all BMD ppl who earn '>50K' / all BMD ppl\n",
    "higher_education = # len(BMD>50K) / len(BMD)*100\n",
    "\n",
    "# What percentage of people without advanced education make more than 50K?\n",
    "\n",
    "## Get total of people without BMD in 'education' column\n",
    "## Find number of noBMD who earn '>50K'\n",
    "## Divid all noBMD ppl who earn '50K' / all noBMD ppl\n",
    "lower_edcuation = # len(noBMD>50K) / len(noBMD)*100\n",
    "\n",
    "# What is the minimum number of hours a person works per week?\n",
    "\n",
    "## Find the minimum number in the 'hours-per-week' column\n",
    "min_work_hours = # hours-per-week.min()\n",
    "\n",
    "# What percentage of the people who work the minimum number of hours per week have a salary of more than 50K?\n",
    "\n",
    "## Find the number of ppl who work the hours-per-week.min()\n",
    "num_min_workers = # len(df[(df[HPW]  == min_work_hours])\n",
    "## Find the number of ppl who work min hours/week & earn 50K\n",
    "## Divide ppl who work min & 50K / ppl who work min\n",
    "rich_percentage = # workMin&50K / workMin\n",
    "\n",
    "# What country has the highest percentage of people that earn >50K and what is that percentage?\n",
    "highest_earning_country = None\n",
    "highest_earning_country_percentage = None\n",
    "\n",
    "# Identify the most popular occupation for those who earn >50K in India.\n",
    "top_IN_occupation = None\n",
    "```\n",
    "\n",
    "<hr/>"
   ]
  },
  {
   "cell_type": "markdown",
   "id": "24270742",
   "metadata": {},
   "source": [
    "<h2 align=\"center\">My Solution</h2>"
   ]
  },
  {
   "cell_type": "markdown",
   "id": "32400aa4",
   "metadata": {},
   "source": [
    "<h4>How many people of each race are represented in this dataset?</h4>\n"
   ]
  },
  {
   "cell_type": "code",
   "execution_count": 67,
   "id": "ac5f8dcd",
   "metadata": {},
   "outputs": [
    {
     "data": {
      "text/plain": [
       "White                 27816\n",
       "Black                  3124\n",
       "Asian-Pac-Islander     1039\n",
       "Amer-Indian-Eskimo      311\n",
       "Other                   271\n",
       "Name: race, dtype: int64"
      ]
     },
     "execution_count": 67,
     "metadata": {},
     "output_type": "execute_result"
    }
   ],
   "source": [
    "#Check the unique names in the 'race' column and their associated counts\n",
    "df['race'].value_counts()"
   ]
  },
  {
   "cell_type": "code",
   "execution_count": 71,
   "id": "0ac9351b",
   "metadata": {},
   "outputs": [],
   "source": [
    "#Assign the pd.Series to the 'race_count' variable:\n",
    "race_count=df['race'].value_counts()"
   ]
  },
  {
   "cell_type": "markdown",
   "id": "cce98874",
   "metadata": {},
   "source": [
    "<hr/>"
   ]
  },
  {
   "cell_type": "markdown",
   "id": "8c603da3",
   "metadata": {},
   "source": [
    "<h4>What is the average age of men?</h4>"
   ]
  },
  {
   "cell_type": "code",
   "execution_count": 81,
   "id": "37c3ee5a",
   "metadata": {},
   "outputs": [
    {
     "data": {
      "text/plain": [
       "0        39\n",
       "1        50\n",
       "2        38\n",
       "3        53\n",
       "7        52\n",
       "         ..\n",
       "32553    32\n",
       "32554    53\n",
       "32555    22\n",
       "32557    40\n",
       "32559    22\n",
       "Name: age, Length: 21790, dtype: int64"
      ]
     },
     "execution_count": 81,
     "metadata": {},
     "output_type": "execute_result"
    }
   ],
   "source": [
    "#getting the total number of 'Male' only values\n",
    "df[df['sex']=='Male']['age'] "
   ]
  },
  {
   "cell_type": "code",
   "execution_count": 78,
   "id": "4cbfa973",
   "metadata": {},
   "outputs": [],
   "source": [
    "#assigning total male count to variable\n",
    "maleTot = df[df['sex']=='Male'] "
   ]
  },
  {
   "cell_type": "code",
   "execution_count": 80,
   "id": "b9d29913",
   "metadata": {},
   "outputs": [
    {
     "data": {
      "text/plain": [
       "39.4"
      ]
     },
     "execution_count": 80,
     "metadata": {},
     "output_type": "execute_result"
    }
   ],
   "source": [
    "#Finding the mean and rounding to 1 decimal point\n",
    "round(maleTot['age'].mean(),1)"
   ]
  },
  {
   "cell_type": "markdown",
   "id": "7cd3d738",
   "metadata": {},
   "source": [
    "<hr/>"
   ]
  },
  {
   "cell_type": "markdown",
   "id": "6649c8e6",
   "metadata": {},
   "source": [
    "<h4>What is the percentage of people who have a Bachelor's degree?</h4>"
   ]
  },
  {
   "cell_type": "code",
   "execution_count": 97,
   "id": "853c2665",
   "metadata": {},
   "outputs": [
    {
     "data": {
      "text/plain": [
       "5355"
      ]
     },
     "execution_count": 97,
     "metadata": {},
     "output_type": "execute_result"
    }
   ],
   "source": [
    "#Drill down into total rows people with bachelors:\n",
    "a = df[df['education']=='Bachelors'].shape[0]\n",
    "a"
   ]
  },
  {
   "cell_type": "code",
   "execution_count": 96,
   "id": "a717d2c6",
   "metadata": {},
   "outputs": [
    {
     "data": {
      "text/plain": [
       "32561"
      ]
     },
     "execution_count": 96,
     "metadata": {},
     "output_type": "execute_result"
    }
   ],
   "source": [
    "#Drill down into total rows of people with education:\n",
    "b = df['education'].shape[0]\n",
    "b"
   ]
  },
  {
   "cell_type": "code",
   "execution_count": 93,
   "id": "c95f626b",
   "metadata": {},
   "outputs": [
    {
     "data": {
      "text/plain": [
       "16.4"
      ]
     },
     "execution_count": 93,
     "metadata": {},
     "output_type": "execute_result"
    }
   ],
   "source": [
    "#Find the percentage and round to tenths:\n",
    "round(a/b*100,1)"
   ]
  },
  {
   "cell_type": "markdown",
   "id": "60facc0d",
   "metadata": {},
   "source": [
    "<hr/>"
   ]
  },
  {
   "cell_type": "markdown",
   "id": "10630872",
   "metadata": {},
   "source": [
    "<h4>What percentage of people with advanced education (B,M,Dr.) make more than $50K?\n",
    "\n",
    "What percentage of people without advanced education make more than $50K?</h4>"
   ]
  },
  {
   "cell_type": "code",
   "execution_count": 141,
   "id": "ee6aad37",
   "metadata": {},
   "outputs": [
    {
     "name": "stdout",
     "output_type": "stream",
     "text": [
      "Degree @ $50K: 46.5%\n"
     ]
    }
   ],
   "source": [
    "#Set variable to hold number of degree holders making >50K:\n",
    "hEd = df[df['education'].isin(['Bachelors','Masters','Doctorate'])]\n",
    "hEd2 = len(hEd[hEd['salary']=='>50K'])/len(hEd)*100\n",
    "hEd3 = round(hEd2,1)\n",
    "\n",
    "\n",
    "print(f'Degree @ $50K: {hEd3}%')"
   ]
  },
  {
   "cell_type": "code",
   "execution_count": 142,
   "id": "b897817d",
   "metadata": {},
   "outputs": [
    {
     "name": "stdout",
     "output_type": "stream",
     "text": [
      "NO Degree @ $50K: 17.4%\n"
     ]
    }
   ],
   "source": [
    "#Set variable to hold number of noDegree making >50K\n",
    "lEd = df[~df['education'].isin(['Bachelors','Masters','Doctorate'])]\n",
    "lEd2 = len(lEd[lEd['salary']=='>50K'])/len(lEd)*100\n",
    "lEd3 = round(lEd2,1)\n",
    "\n",
    "print(f'NO Degree @ $50K: {lEd3}%')"
   ]
  },
  {
   "cell_type": "code",
   "execution_count": 143,
   "id": "63f2b04f",
   "metadata": {},
   "outputs": [],
   "source": [
    "#Answering the prompt by rounding to nearest tenth: \n",
    "higher_education_rich = hEd3\n",
    "lower_education_rich = lEd3"
   ]
  },
  {
   "cell_type": "code",
   "execution_count": 145,
   "id": "be969afb",
   "metadata": {},
   "outputs": [
    {
     "name": "stdout",
     "output_type": "stream",
     "text": [
      "Percentage of people making more than $50K by degree.\n",
      "College Degree: 46.5%\n",
      "No Degree:      17.4%\n"
     ]
    }
   ],
   "source": [
    "print(f'Percentage of people making more than $50K by degree.\\nCollege Degree: {higher_education_rich}%\\nNo Degree:      {lower_education_rich}%')"
   ]
  },
  {
   "cell_type": "markdown",
   "id": "7f0f72ef",
   "metadata": {},
   "source": [
    "<hr/>"
   ]
  },
  {
   "cell_type": "markdown",
   "id": "21aca96a",
   "metadata": {},
   "source": [
    "<h4>What is the minimum number of hours a person works per week?<br>What percentage of the people who work the minimum number of hours per week have a salary of more than $50K?</h4>"
   ]
  },
  {
   "cell_type": "code",
   "execution_count": 147,
   "id": "d696c489",
   "metadata": {},
   "outputs": [
    {
     "name": "stdout",
     "output_type": "stream",
     "text": [
      "The minimum number of hours a person works per week: 1 hour(s).\n"
     ]
    }
   ],
   "source": [
    "#Using '.min' function to find the minimum hours worked per week:\n",
    "df['hours-per-week'].min()\n",
    "\n",
    "#Answering the prompt: \n",
    "min_work_hours = df['hours-per-week'].min()\n",
    "\n",
    "#Result:\n",
    "print(f'The minimum number of hours a person works per week: {q1} hour(s).')"
   ]
  },
  {
   "cell_type": "code",
   "execution_count": 158,
   "id": "f3dc8d0c",
   "metadata": {},
   "outputs": [
    {
     "name": "stdout",
     "output_type": "stream",
     "text": [
      "There are 20 people who work 1 hour(s) and earn more than $50K\n"
     ]
    }
   ],
   "source": [
    "#% of workers working minimum and earning >50K:\n",
    "#Calculation: Find the total # of people in the HPW colum that equal 'min_work_hours'\n",
    "r1 = len(df[df['hours-per-week']==min_work_hours])\n",
    "\n",
    "\n",
    "print(f'There are {r1} people who work {min_work_hours} hour(s) and earn more than $50K')"
   ]
  },
  {
   "cell_type": "code",
   "execution_count": 161,
   "id": "a6272224",
   "metadata": {},
   "outputs": [
    {
     "name": "stdout",
     "output_type": "stream",
     "text": [
      "10.0% of minimum hour workers earn more than $50K\n"
     ]
    }
   ],
   "source": [
    "'''\n",
    "Calculation: \n",
    "\n",
    "Total(#ppl working min & >50K) / Total(#ppl working min)\n",
    "\n",
    "'''\n",
    "\n",
    "r2 = round(len( df[ (df[ 'hours-per-week' ]==min_work_hours) & (df['salary'] == '>50K')])/r1*100,1)\n",
    "\n",
    "#Answer prompt\n",
    "rich_percentage = r2\n",
    "\n",
    "print(f'{rich_percentage}% of minimum hour workers earn more than $50K')"
   ]
  },
  {
   "cell_type": "markdown",
   "id": "af896d7e",
   "metadata": {},
   "source": [
    "<hr/>"
   ]
  },
  {
   "cell_type": "markdown",
   "id": "d70f64f8",
   "metadata": {},
   "source": [
    "<h4>What country has the highest perecentage of people that earn >$50K?<br>What is that percentage?</h4>"
   ]
  },
  {
   "cell_type": "code",
   "execution_count": 175,
   "id": "d187bebc",
   "metadata": {},
   "outputs": [
    {
     "data": {
      "text/plain": [
       "array(['United-States', 'Cuba', 'Jamaica', 'India', '?', 'Mexico',\n",
       "       'South', 'Puerto-Rico', 'Honduras', 'England', 'Canada', 'Germany',\n",
       "       'Iran', 'Philippines', 'Italy', 'Poland', 'Columbia', 'Cambodia',\n",
       "       'Thailand', 'Ecuador', 'Laos', 'Taiwan', 'Haiti', 'Portugal',\n",
       "       'Dominican-Republic', 'El-Salvador', 'France', 'Guatemala',\n",
       "       'China', 'Japan', 'Yugoslavia', 'Peru',\n",
       "       'Outlying-US(Guam-USVI-etc)', 'Scotland', 'Trinadad&Tobago',\n",
       "       'Greece', 'Nicaragua', 'Vietnam', 'Hong', 'Ireland', 'Hungary',\n",
       "       'Holand-Netherlands'], dtype=object)"
      ]
     },
     "execution_count": 175,
     "metadata": {},
     "output_type": "execute_result"
    }
   ],
   "source": [
    "df['native-country'].unique()"
   ]
  },
  {
   "cell_type": "code",
   "execution_count": 189,
   "id": "1af581c4",
   "metadata": {},
   "outputs": [],
   "source": [
    "rich_countries = df.loc[df['salary']== '>50K', 'native-country'].value_counts()"
   ]
  },
  {
   "cell_type": "code",
   "execution_count": 190,
   "id": "a182ccdb",
   "metadata": {},
   "outputs": [],
   "source": [
    "all_countries = df['native-country'].value_counts()"
   ]
  },
  {
   "cell_type": "code",
   "execution_count": 202,
   "id": "60ab7299",
   "metadata": {},
   "outputs": [
    {
     "name": "stdout",
     "output_type": "stream",
     "text": [
      "Iran\n"
     ]
    }
   ],
   "source": [
    "top_country = (rich_countries/all_countries).fillna(0).sort_values(ascending=False).index[0]\n",
    "print(top_country)"
   ]
  },
  {
   "cell_type": "code",
   "execution_count": 203,
   "id": "45f7e9e1",
   "metadata": {},
   "outputs": [
    {
     "name": "stdout",
     "output_type": "stream",
     "text": [
      "18\n",
      "Highest Earning Country Percentage: 41.9\n"
     ]
    }
   ],
   "source": [
    "#Calcuate the % of top_country--\n",
    "##Find #ppl in top country earning >50K\n",
    "earnersIn_top_country = len(df[ (df['native-country'] == top_country) & (df[ 'salary' ] =='>50K') ])\n",
    "print(earnersIn_top_country)\n",
    "\n",
    "##Find total #ppl in top country\n",
    "top_country_total = len(df[ df[ 'native-country'] == top_country])\n",
    "\n",
    "##Answer prompts\n",
    "highest_earning_country = top_country\n",
    "highest_earning_country_percentage = round(earnersIn_top_country/top_country_total*100,1)\n",
    "\n",
    "print(f'Highest Earning Country Percentage: {highest_earning_country_percentage}')\n"
   ]
  },
  {
   "cell_type": "markdown",
   "id": "908d781c",
   "metadata": {},
   "source": [
    "<hr/>"
   ]
  },
  {
   "cell_type": "markdown",
   "id": "c665c7fb",
   "metadata": {},
   "source": [
    "<h4>Identify the most popular occupation for those who earn >$50K in India.</h4>"
   ]
  },
  {
   "cell_type": "code",
   "execution_count": 207,
   "id": "9ba0b4fa",
   "metadata": {},
   "outputs": [
    {
     "data": {
      "text/plain": [
       "Prof-specialty       40\n",
       "Sales                14\n",
       "Adm-clerical         11\n",
       "Exec-managerial      10\n",
       "Craft-repair          5\n",
       "Tech-support          5\n",
       "Other-service         4\n",
       "Protective-serv       4\n",
       "Handlers-cleaners     3\n",
       "Transport-moving      2\n",
       "Machine-op-inspct     2\n",
       "Name: occupation, dtype: int64"
      ]
     },
     "execution_count": 207,
     "metadata": {},
     "output_type": "execute_result"
    }
   ],
   "source": [
    "df[df['native-country']=='India']['occupation'].value_counts()"
   ]
  },
  {
   "cell_type": "code",
   "execution_count": 205,
   "id": "60fa86e6",
   "metadata": {},
   "outputs": [
    {
     "data": {
      "text/plain": [
       "'Prof-specialty'"
      ]
     },
     "execution_count": 205,
     "metadata": {},
     "output_type": "execute_result"
    }
   ],
   "source": [
    "#Return a list of unique occupation names as index with count of people who earn >50K: \n",
    "df[ (df['salary'] == \">50K\") & (df['native-country'] == 'India')]['occupation'].value_counts().index[0]"
   ]
  },
  {
   "cell_type": "code",
   "execution_count": 209,
   "id": "e6f96907",
   "metadata": {},
   "outputs": [
    {
     "name": "stdout",
     "output_type": "stream",
     "text": [
      "The top occupation in India is Prof-specialty.\n"
     ]
    }
   ],
   "source": [
    "#Answer prompt: \n",
    "top_IN_occupation = df[ (df['salary'] == \">50K\") & (df['native-country'] == 'India')]['occupation'].value_counts().index[0]\n",
    "\n",
    "print(f'The top occupation in India is {top_IN_occupation}.')"
   ]
  },
  {
   "cell_type": "code",
   "execution_count": null,
   "id": "75ee4f77",
   "metadata": {},
   "outputs": [],
   "source": []
  }
 ],
 "metadata": {
  "kernelspec": {
   "display_name": "Python 3 (ipykernel)",
   "language": "python",
   "name": "python3"
  },
  "language_info": {
   "codemirror_mode": {
    "name": "ipython",
    "version": 3
   },
   "file_extension": ".py",
   "mimetype": "text/x-python",
   "name": "python",
   "nbconvert_exporter": "python",
   "pygments_lexer": "ipython3",
   "version": "3.9.7"
  }
 },
 "nbformat": 4,
 "nbformat_minor": 5
}
