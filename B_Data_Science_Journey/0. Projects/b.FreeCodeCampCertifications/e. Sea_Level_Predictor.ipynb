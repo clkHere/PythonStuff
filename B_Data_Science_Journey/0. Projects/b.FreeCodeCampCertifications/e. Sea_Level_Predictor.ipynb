{
 "cells": [
  {
   "cell_type": "markdown",
   "id": "14dfd9ac",
   "metadata": {},
   "source": [
    "<h1>Sea Level Predictor</h1>\n",
    "\n",
    "For this project, I will anaylize a dataset of the global average sea level change since 1880. I'll use the data to predict the sea level change through year 2050.\n",
    "\n",
    "<hr/>\n",
    "\n",
    "<h2>Tasks</h2>\n",
    "\n",
    "I will use the data provided from the 'epa-sea-level.csv' to complete the following tasks:\n",
    "\n",
    "* Use Pandas to import the data from epa-sea-level.csv.\n",
    "* Use matplotlib to create a scatter plot using the \"Year\" column as the x-axis and the \"CSIRO Adjusted Sea Level\" column as the y-axix.\n",
    "* Use the linregress function from scipy.stats to get the slope and y-intercept of the line of best fit. \n",
    "    * Plot the line of best fit over the top of the scatter plot. \n",
    "    * Make the line go through the year 2050 to predict the sea level rise in 2050.\n",
    "* Plot a new line of best fit just using the data from year 2000 through the most recent year in the dataset. \n",
    "    * Make the line also go through the year 2050 to predict the sea level rise in 2050 if the rate of rise continues as it has since the year 2000.\n",
    "* The x label should be \"Year\", the y label should be \"Sea Level (inches)\", and the title should be \"Rise in Sea Level\".\n",
    "\n",
    "<hr/>\n"
   ]
  },
  {
   "cell_type": "markdown",
   "id": "51e3c8bb",
   "metadata": {},
   "source": [
    "<h3>1. Import Pandas, Numpy, Matplotlib.pyplot, Scipy.stats, Seaborn, and Sea-Level Data </h3>"
   ]
  },
  {
   "cell_type": "code",
   "execution_count": 2,
   "id": "c2258c16",
   "metadata": {},
   "outputs": [],
   "source": [
    "import pandas as pd\n",
    "import matplotlib.pyplot as plt\n",
    "import seaborn as sns\n",
    "from scipy.stats import linregress\n",
    "\n",
    "\n",
    "df = pd.read_csv(r'C:\\Users\\Work\\Desktop\\Python Lessons\\Data Science\\Data Science w Py Course\\Data For Use\\epa-sea-level.csv')"
   ]
  },
  {
   "cell_type": "markdown",
   "id": "d20cc21d",
   "metadata": {},
   "source": [
    "<hr/>\n",
    "\n",
    "<b>EDA (Insights, Clean, Relationship Analysis)</b>"
   ]
  },
  {
   "cell_type": "code",
   "execution_count": 3,
   "id": "615460ce",
   "metadata": {},
   "outputs": [
    {
     "data": {
      "text/html": [
       "<div>\n",
       "<style scoped>\n",
       "    .dataframe tbody tr th:only-of-type {\n",
       "        vertical-align: middle;\n",
       "    }\n",
       "\n",
       "    .dataframe tbody tr th {\n",
       "        vertical-align: top;\n",
       "    }\n",
       "\n",
       "    .dataframe thead th {\n",
       "        text-align: right;\n",
       "    }\n",
       "</style>\n",
       "<table border=\"1\" class=\"dataframe\">\n",
       "  <thead>\n",
       "    <tr style=\"text-align: right;\">\n",
       "      <th></th>\n",
       "      <th>Year</th>\n",
       "      <th>CSIRO Adjusted Sea Level</th>\n",
       "      <th>Lower Error Bound</th>\n",
       "      <th>Upper Error Bound</th>\n",
       "      <th>NOAA Adjusted Sea Level</th>\n",
       "    </tr>\n",
       "  </thead>\n",
       "  <tbody>\n",
       "    <tr>\n",
       "      <th>0</th>\n",
       "      <td>1880</td>\n",
       "      <td>0.000000</td>\n",
       "      <td>-0.952756</td>\n",
       "      <td>0.952756</td>\n",
       "      <td>NaN</td>\n",
       "    </tr>\n",
       "    <tr>\n",
       "      <th>1</th>\n",
       "      <td>1881</td>\n",
       "      <td>0.220472</td>\n",
       "      <td>-0.732283</td>\n",
       "      <td>1.173228</td>\n",
       "      <td>NaN</td>\n",
       "    </tr>\n",
       "    <tr>\n",
       "      <th>2</th>\n",
       "      <td>1882</td>\n",
       "      <td>-0.440945</td>\n",
       "      <td>-1.346457</td>\n",
       "      <td>0.464567</td>\n",
       "      <td>NaN</td>\n",
       "    </tr>\n",
       "  </tbody>\n",
       "</table>\n",
       "</div>"
      ],
      "text/plain": [
       "   Year  CSIRO Adjusted Sea Level  Lower Error Bound  Upper Error Bound  \\\n",
       "0  1880                  0.000000          -0.952756           0.952756   \n",
       "1  1881                  0.220472          -0.732283           1.173228   \n",
       "2  1882                 -0.440945          -1.346457           0.464567   \n",
       "\n",
       "   NOAA Adjusted Sea Level  \n",
       "0                      NaN  \n",
       "1                      NaN  \n",
       "2                      NaN  "
      ]
     },
     "execution_count": 3,
     "metadata": {},
     "output_type": "execute_result"
    }
   ],
   "source": [
    "#Check data layout: \n",
    "df.head(3)"
   ]
  },
  {
   "cell_type": "code",
   "execution_count": 4,
   "id": "f03f2726",
   "metadata": {},
   "outputs": [
    {
     "data": {
      "text/plain": [
       "(134, 5)"
      ]
     },
     "execution_count": 4,
     "metadata": {},
     "output_type": "execute_result"
    }
   ],
   "source": [
    "#Check data volume\n",
    "df.shape"
   ]
  },
  {
   "cell_type": "code",
   "execution_count": 5,
   "id": "52c9985e",
   "metadata": {},
   "outputs": [
    {
     "data": {
      "text/plain": [
       "Year                          0\n",
       "CSIRO Adjusted Sea Level      0\n",
       "Lower Error Bound             0\n",
       "Upper Error Bound             0\n",
       "NOAA Adjusted Sea Level     113\n",
       "dtype: int64"
      ]
     },
     "execution_count": 5,
     "metadata": {},
     "output_type": "execute_result"
    }
   ],
   "source": [
    "#Check for null values: \n",
    "df.isnull().sum()"
   ]
  },
  {
   "cell_type": "code",
   "execution_count": 6,
   "id": "d2318c16",
   "metadata": {},
   "outputs": [
    {
     "name": "stdout",
     "output_type": "stream",
     "text": [
      "<class 'pandas.core.frame.DataFrame'>\n",
      "RangeIndex: 134 entries, 0 to 133\n",
      "Data columns (total 5 columns):\n",
      " #   Column                    Non-Null Count  Dtype  \n",
      "---  ------                    --------------  -----  \n",
      " 0   Year                      134 non-null    int64  \n",
      " 1   CSIRO Adjusted Sea Level  134 non-null    float64\n",
      " 2   Lower Error Bound         134 non-null    float64\n",
      " 3   Upper Error Bound         134 non-null    float64\n",
      " 4   NOAA Adjusted Sea Level   21 non-null     float64\n",
      "dtypes: float64(4), int64(1)\n",
      "memory usage: 5.4 KB\n"
     ]
    }
   ],
   "source": [
    "#Check dtypes:\n",
    "df.info()"
   ]
  },
  {
   "cell_type": "code",
   "execution_count": 7,
   "id": "971e7fc5",
   "metadata": {},
   "outputs": [
    {
     "data": {
      "text/html": [
       "<div>\n",
       "<style scoped>\n",
       "    .dataframe tbody tr th:only-of-type {\n",
       "        vertical-align: middle;\n",
       "    }\n",
       "\n",
       "    .dataframe tbody tr th {\n",
       "        vertical-align: top;\n",
       "    }\n",
       "\n",
       "    .dataframe thead th {\n",
       "        text-align: right;\n",
       "    }\n",
       "</style>\n",
       "<table border=\"1\" class=\"dataframe\">\n",
       "  <thead>\n",
       "    <tr style=\"text-align: right;\">\n",
       "      <th></th>\n",
       "      <th>Year</th>\n",
       "      <th>CSIRO Adjusted Sea Level</th>\n",
       "      <th>Lower Error Bound</th>\n",
       "      <th>Upper Error Bound</th>\n",
       "      <th>NOAA Adjusted Sea Level</th>\n",
       "    </tr>\n",
       "  </thead>\n",
       "  <tbody>\n",
       "    <tr>\n",
       "      <th>count</th>\n",
       "      <td>134.000000</td>\n",
       "      <td>134.000000</td>\n",
       "      <td>134.000000</td>\n",
       "      <td>134.000000</td>\n",
       "      <td>21.000000</td>\n",
       "    </tr>\n",
       "    <tr>\n",
       "      <th>mean</th>\n",
       "      <td>1946.500000</td>\n",
       "      <td>3.650341</td>\n",
       "      <td>3.204666</td>\n",
       "      <td>4.096016</td>\n",
       "      <td>7.363746</td>\n",
       "    </tr>\n",
       "    <tr>\n",
       "      <th>std</th>\n",
       "      <td>38.826537</td>\n",
       "      <td>2.485692</td>\n",
       "      <td>2.663781</td>\n",
       "      <td>2.312581</td>\n",
       "      <td>0.691038</td>\n",
       "    </tr>\n",
       "    <tr>\n",
       "      <th>min</th>\n",
       "      <td>1880.000000</td>\n",
       "      <td>-0.440945</td>\n",
       "      <td>-1.346457</td>\n",
       "      <td>0.464567</td>\n",
       "      <td>6.297493</td>\n",
       "    </tr>\n",
       "    <tr>\n",
       "      <th>25%</th>\n",
       "      <td>1913.250000</td>\n",
       "      <td>1.632874</td>\n",
       "      <td>1.078740</td>\n",
       "      <td>2.240157</td>\n",
       "      <td>6.848690</td>\n",
       "    </tr>\n",
       "    <tr>\n",
       "      <th>50%</th>\n",
       "      <td>1946.500000</td>\n",
       "      <td>3.312992</td>\n",
       "      <td>2.915354</td>\n",
       "      <td>3.710630</td>\n",
       "      <td>7.488353</td>\n",
       "    </tr>\n",
       "    <tr>\n",
       "      <th>75%</th>\n",
       "      <td>1979.750000</td>\n",
       "      <td>5.587598</td>\n",
       "      <td>5.329724</td>\n",
       "      <td>5.845472</td>\n",
       "      <td>7.907365</td>\n",
       "    </tr>\n",
       "    <tr>\n",
       "      <th>max</th>\n",
       "      <td>2013.000000</td>\n",
       "      <td>9.326772</td>\n",
       "      <td>8.992126</td>\n",
       "      <td>9.661417</td>\n",
       "      <td>8.546648</td>\n",
       "    </tr>\n",
       "  </tbody>\n",
       "</table>\n",
       "</div>"
      ],
      "text/plain": [
       "              Year  CSIRO Adjusted Sea Level  Lower Error Bound  \\\n",
       "count   134.000000                134.000000         134.000000   \n",
       "mean   1946.500000                  3.650341           3.204666   \n",
       "std      38.826537                  2.485692           2.663781   \n",
       "min    1880.000000                 -0.440945          -1.346457   \n",
       "25%    1913.250000                  1.632874           1.078740   \n",
       "50%    1946.500000                  3.312992           2.915354   \n",
       "75%    1979.750000                  5.587598           5.329724   \n",
       "max    2013.000000                  9.326772           8.992126   \n",
       "\n",
       "       Upper Error Bound  NOAA Adjusted Sea Level  \n",
       "count         134.000000                21.000000  \n",
       "mean            4.096016                 7.363746  \n",
       "std             2.312581                 0.691038  \n",
       "min             0.464567                 6.297493  \n",
       "25%             2.240157                 6.848690  \n",
       "50%             3.710630                 7.488353  \n",
       "75%             5.845472                 7.907365  \n",
       "max             9.661417                 8.546648  "
      ]
     },
     "execution_count": 7,
     "metadata": {},
     "output_type": "execute_result"
    }
   ],
   "source": [
    "#Check statisical significance\n",
    "df.describe()"
   ]
  },
  {
   "cell_type": "markdown",
   "id": "9f627b5f",
   "metadata": {},
   "source": [
    "<b>Pre-Summary Analysis:</b>\n",
    "\n",
    "<blockquote>Incoming...</blockquote>"
   ]
  },
  {
   "cell_type": "markdown",
   "id": "a0595031",
   "metadata": {},
   "source": [
    "<b>Cleaning Data</b>"
   ]
  },
  {
   "cell_type": "code",
   "execution_count": 13,
   "id": "67bbd6b4",
   "metadata": {},
   "outputs": [],
   "source": [
    "#Rename the columns:\n",
    "df = df.rename(columns=({\n",
    "    'CSIRO Adjusted Sea Level': 'c_adj_sea_level',\n",
    "    'Lower Error Bound': 'low_err_bound', \n",
    "    'Upper Error Bound': 'up_err_bound',\n",
    "    'NOAA Adjusted Sea Level': 'n_adj_sea_level'\n",
    "}))"
   ]
  },
  {
   "cell_type": "code",
   "execution_count": 14,
   "id": "fe2a1501",
   "metadata": {},
   "outputs": [],
   "source": [
    "df = df.rename(columns=({'Year': 'year'}))"
   ]
  },
  {
   "cell_type": "code",
   "execution_count": 15,
   "id": "6069152d",
   "metadata": {},
   "outputs": [
    {
     "data": {
      "text/html": [
       "<div>\n",
       "<style scoped>\n",
       "    .dataframe tbody tr th:only-of-type {\n",
       "        vertical-align: middle;\n",
       "    }\n",
       "\n",
       "    .dataframe tbody tr th {\n",
       "        vertical-align: top;\n",
       "    }\n",
       "\n",
       "    .dataframe thead th {\n",
       "        text-align: right;\n",
       "    }\n",
       "</style>\n",
       "<table border=\"1\" class=\"dataframe\">\n",
       "  <thead>\n",
       "    <tr style=\"text-align: right;\">\n",
       "      <th></th>\n",
       "      <th>year</th>\n",
       "      <th>c_adj_sea_level</th>\n",
       "      <th>low_err_bound</th>\n",
       "      <th>up_err_bound</th>\n",
       "      <th>n_adj_sea_level</th>\n",
       "    </tr>\n",
       "  </thead>\n",
       "  <tbody>\n",
       "    <tr>\n",
       "      <th>0</th>\n",
       "      <td>1880</td>\n",
       "      <td>0.000000</td>\n",
       "      <td>-0.952756</td>\n",
       "      <td>0.952756</td>\n",
       "      <td>NaN</td>\n",
       "    </tr>\n",
       "    <tr>\n",
       "      <th>1</th>\n",
       "      <td>1881</td>\n",
       "      <td>0.220472</td>\n",
       "      <td>-0.732283</td>\n",
       "      <td>1.173228</td>\n",
       "      <td>NaN</td>\n",
       "    </tr>\n",
       "    <tr>\n",
       "      <th>2</th>\n",
       "      <td>1882</td>\n",
       "      <td>-0.440945</td>\n",
       "      <td>-1.346457</td>\n",
       "      <td>0.464567</td>\n",
       "      <td>NaN</td>\n",
       "    </tr>\n",
       "    <tr>\n",
       "      <th>3</th>\n",
       "      <td>1883</td>\n",
       "      <td>-0.232283</td>\n",
       "      <td>-1.129921</td>\n",
       "      <td>0.665354</td>\n",
       "      <td>NaN</td>\n",
       "    </tr>\n",
       "    <tr>\n",
       "      <th>4</th>\n",
       "      <td>1884</td>\n",
       "      <td>0.590551</td>\n",
       "      <td>-0.283465</td>\n",
       "      <td>1.464567</td>\n",
       "      <td>NaN</td>\n",
       "    </tr>\n",
       "  </tbody>\n",
       "</table>\n",
       "</div>"
      ],
      "text/plain": [
       "   year  c_adj_sea_level  low_err_bound  up_err_bound  n_adj_sea_level\n",
       "0  1880         0.000000      -0.952756      0.952756              NaN\n",
       "1  1881         0.220472      -0.732283      1.173228              NaN\n",
       "2  1882        -0.440945      -1.346457      0.464567              NaN\n",
       "3  1883        -0.232283      -1.129921      0.665354              NaN\n",
       "4  1884         0.590551      -0.283465      1.464567              NaN"
      ]
     },
     "execution_count": 15,
     "metadata": {},
     "output_type": "execute_result"
    }
   ],
   "source": [
    "df.head()"
   ]
  },
  {
   "cell_type": "code",
   "execution_count": 16,
   "id": "eeb98092",
   "metadata": {},
   "outputs": [],
   "source": [
    "#Fill NaN values: \n",
    "df.fillna(method='bfill',inplace=True)"
   ]
  },
  {
   "cell_type": "code",
   "execution_count": 17,
   "id": "66e958d3",
   "metadata": {},
   "outputs": [
    {
     "data": {
      "text/html": [
       "<div>\n",
       "<style scoped>\n",
       "    .dataframe tbody tr th:only-of-type {\n",
       "        vertical-align: middle;\n",
       "    }\n",
       "\n",
       "    .dataframe tbody tr th {\n",
       "        vertical-align: top;\n",
       "    }\n",
       "\n",
       "    .dataframe thead th {\n",
       "        text-align: right;\n",
       "    }\n",
       "</style>\n",
       "<table border=\"1\" class=\"dataframe\">\n",
       "  <thead>\n",
       "    <tr style=\"text-align: right;\">\n",
       "      <th></th>\n",
       "      <th>year</th>\n",
       "      <th>c_adj_sea_level</th>\n",
       "      <th>low_err_bound</th>\n",
       "      <th>up_err_bound</th>\n",
       "      <th>n_adj_sea_level</th>\n",
       "    </tr>\n",
       "  </thead>\n",
       "  <tbody>\n",
       "    <tr>\n",
       "      <th>129</th>\n",
       "      <td>2009</td>\n",
       "      <td>8.586614</td>\n",
       "      <td>8.311024</td>\n",
       "      <td>8.862205</td>\n",
       "      <td>8.046354</td>\n",
       "    </tr>\n",
       "    <tr>\n",
       "      <th>130</th>\n",
       "      <td>2010</td>\n",
       "      <td>8.901575</td>\n",
       "      <td>8.618110</td>\n",
       "      <td>9.185039</td>\n",
       "      <td>8.122973</td>\n",
       "    </tr>\n",
       "    <tr>\n",
       "      <th>131</th>\n",
       "      <td>2011</td>\n",
       "      <td>8.964567</td>\n",
       "      <td>8.661417</td>\n",
       "      <td>9.267717</td>\n",
       "      <td>8.053065</td>\n",
       "    </tr>\n",
       "    <tr>\n",
       "      <th>132</th>\n",
       "      <td>2012</td>\n",
       "      <td>9.326772</td>\n",
       "      <td>8.992126</td>\n",
       "      <td>9.661417</td>\n",
       "      <td>8.457058</td>\n",
       "    </tr>\n",
       "    <tr>\n",
       "      <th>133</th>\n",
       "      <td>2013</td>\n",
       "      <td>8.980315</td>\n",
       "      <td>8.622047</td>\n",
       "      <td>9.338583</td>\n",
       "      <td>8.546648</td>\n",
       "    </tr>\n",
       "  </tbody>\n",
       "</table>\n",
       "</div>"
      ],
      "text/plain": [
       "     year  c_adj_sea_level  low_err_bound  up_err_bound  n_adj_sea_level\n",
       "129  2009         8.586614       8.311024      8.862205         8.046354\n",
       "130  2010         8.901575       8.618110      9.185039         8.122973\n",
       "131  2011         8.964567       8.661417      9.267717         8.053065\n",
       "132  2012         9.326772       8.992126      9.661417         8.457058\n",
       "133  2013         8.980315       8.622047      9.338583         8.546648"
      ]
     },
     "execution_count": 17,
     "metadata": {},
     "output_type": "execute_result"
    }
   ],
   "source": [
    "df.tail()"
   ]
  },
  {
   "cell_type": "markdown",
   "id": "08aee7a6",
   "metadata": {},
   "source": [
    "<hr/>\n",
    "\n",
    "<h3>2. Create Scatter Plot</h3>\n",
    "\n",
    "* Use matplotlib to create a scatter plot using the \"Year\" column as the x-axis and the \"CSIRO Adjusted Sea Level\" column as the y-axix."
   ]
  },
  {
   "cell_type": "markdown",
   "id": "4e42f5dd",
   "metadata": {},
   "source": []
  },
  {
   "cell_type": "code",
   "execution_count": 39,
   "id": "0249367a",
   "metadata": {},
   "outputs": [
    {
     "data": {
      "text/plain": [
       "<matplotlib.collections.PathCollection at 0x1cedf9fd940>"
      ]
     },
     "execution_count": 39,
     "metadata": {},
     "output_type": "execute_result"
    },
    {
     "data": {
      "image/png": "[encoded data removed]",
      "text/plain": [
       "<Figure size 432x288 with 1 Axes>"
      ]
     },
     "metadata": {
      "needs_background": "light"
     },
     "output_type": "display_data"
    }
   ],
   "source": [
    "fig, ax = plt.subplots()\n",
    "plt.scatter(df.year, df.c_adj_sea_level)"
   ]
  },
  {
   "cell_type": "markdown",
   "id": "34c00b06",
   "metadata": {},
   "source": [
    "<hr/>\n",
    "\n",
    "<h3>3. Plot First 'Line of Best Fit'</h3>\n",
    "\n",
    "* Use the linregress function from scipy.stats to get the slope and y-intercept of the line of best fit.\n",
    "    * Plot the line of best fit over the top of the scatter plot.\n",
    "    * Make the line go through the year 2050 to predict the sea level rise in 2050.\n"
   ]
  },
  {
   "cell_type": "markdown",
   "id": "266a8b89",
   "metadata": {},
   "source": []
  },
  {
   "cell_type": "code",
   "execution_count": 28,
   "id": "8b31df52",
   "metadata": {},
   "outputs": [
    {
     "data": {
      "text/plain": [
       "<matplotlib.legend.Legend at 0x1cee0469df0>"
      ]
     },
     "execution_count": 28,
     "metadata": {},
     "output_type": "execute_result"
    },
    {
     "data": {
      "image/png": "[encoded data removed]",
      "text/plain": [
       "<Figure size 432x288 with 1 Axes>"
      ]
     },
     "metadata": {
      "needs_background": "light"
     },
     "output_type": "display_data"
    }
   ],
   "source": [
    "import numpy as np\n",
    "\n",
    "#Create a series ofs year upto 2050.\n",
    "y2k50 = np.arange(1875, 2051)\n",
    "\n",
    "#Find the slope and y-intercept: \n",
    "slope, intercept, r_value, p_value, std_err = linregress(df.year, df.c_adj_sea_level)\n",
    "\n",
    "#Plot Line of best fit: \n",
    "ax = plt.scatter(df.year, df.c_adj_sea_level, label='Original Plot')\n",
    "plt.plot(y2k50, intercept + slope * y2k50, 'r', label='Best Fit 1')\n",
    "plt.legend()\n"
   ]
  },
  {
   "cell_type": "code",
   "execution_count": null,
   "id": "14df4aeb",
   "metadata": {},
   "outputs": [],
   "source": []
  },
  {
   "cell_type": "markdown",
   "id": "4adcf794",
   "metadata": {},
   "source": [
    "</hr>\n",
    "\n",
    "<h3>4. Plot Second 'Line of Best Fit'</h3>\n",
    "\n",
    "* Plot a new line of best fit just using the data from year 2000 through the most recent year in the dataset.\n",
    "    * Make the line also go through the year 2050 to predict the sea level rise in 2050 if the rate of rise continues as it has since the year 2000.\n"
   ]
  },
  {
   "cell_type": "markdown",
   "id": "85d96042",
   "metadata": {},
   "source": []
  },
  {
   "cell_type": "code",
   "execution_count": 35,
   "id": "6929a8ae",
   "metadata": {},
   "outputs": [
    {
     "data": {
      "text/plain": [
       "<matplotlib.legend.Legend at 0x1cee153df10>"
      ]
     },
     "execution_count": 35,
     "metadata": {},
     "output_type": "execute_result"
    },
    {
     "data": {
      "image/png": "[encoded data removed]",
      "text/plain": [
       "<Figure size 432x288 with 1 Axes>"
      ]
     },
     "metadata": {
      "needs_background": "light"
     },
     "output_type": "display_data"
    }
   ],
   "source": [
    "y2k = df[df.year >= 2000]\n",
    "slopeY, interceptY, rY, pY, std_errY = linregress(y2k.year, y2k.c_adj_sea_level)\n",
    "y2k502 = np.arange(2000,2051)\n",
    "ax = plt.scatter(df.year, df.c_adj_sea_level, label='Original Plot')\n",
    "plt.plot(y2k50, intercept + slope * y2k50, 'r', label='Best Fit 1')\n",
    "plt.plot(y2k502, interceptY + slopeY * y2k502, 'g', label = '2000+')\n",
    "plt.legend()"
   ]
  },
  {
   "cell_type": "code",
   "execution_count": null,
   "id": "cefa95d7",
   "metadata": {},
   "outputs": [],
   "source": []
  },
  {
   "cell_type": "markdown",
   "id": "c081da2a",
   "metadata": {},
   "source": [
    "<hr/>\n",
    "\n",
    "<h3>5. Add Labels and Title</h3>\n",
    "\n",
    "* The x label should be \"Year\". \n",
    "* The y label should be \"Sea Level (inches)\". \n",
    "* The title should be \"Rise in Sea Level\"."
   ]
  },
  {
   "cell_type": "markdown",
   "id": "19478ca4",
   "metadata": {},
   "source": []
  },
  {
   "cell_type": "code",
   "execution_count": 38,
   "id": "10ee7678",
   "metadata": {},
   "outputs": [
    {
     "data": {
      "text/plain": [
       "Text(0.5, 1.0, 'Rise in Sea Level')"
      ]
     },
     "execution_count": 38,
     "metadata": {},
     "output_type": "execute_result"
    },
    {
     "data": {
      "image/png": "[encoded data removed]",
      "text/plain": [
       "<Figure size 432x288 with 1 Axes>"
      ]
     },
     "metadata": {
      "needs_background": "light"
     },
     "output_type": "display_data"
    }
   ],
   "source": [
    "y2k = df[df.year >= 2000]\n",
    "slopeY, interceptY, rY, pY, std_errY = linregress(y2k.year, y2k.c_adj_sea_level)\n",
    "y2k502 = np.arange(2000,2051)\n",
    "ax = plt.scatter(df.year, df.c_adj_sea_level, label='Original Plot')\n",
    "plt.plot(y2k50, intercept + slope * y2k50, 'r', label='Best Fit 1')\n",
    "plt.plot(y2k502, interceptY + slopeY * y2k502, 'g', label = '2000+')\n",
    "plt.legend()\n",
    "plt.xlabel('Year')\n",
    "plt.ylabel('Sea Level (inches)')\n",
    "plt.title('Rise in Sea Level', pad=10)"
   ]
  },
  {
   "cell_type": "code",
   "execution_count": null,
   "id": "467acc16",
   "metadata": {},
   "outputs": [],
   "source": []
  },
  {
   "cell_type": "markdown",
   "id": "cf27f6cd",
   "metadata": {},
   "source": [
    "<hr/>\n",
    "\n",
    "<h3> Full Code</h3>\n",
    "\n",
    "```python\n",
    "\n",
    "import pandas as pd\n",
    "import matplotlib.pyplot as plt\n",
    "from scipy.stats import linregress\n",
    "import numpy as np\n",
    "\n",
    "def draw_plot():\n",
    "    # Read data from file\n",
    "    df = pd.read_csv('epa-sea-level.csv')\n",
    "    df = df.rename(columns=({\n",
    "      'CSIRO Adjusted Sea Level': 'c_adj_sea_level',\n",
    "      'Lower Error Bound': 'low_err_bound', \n",
    "      'Upper Error Bound': 'up_err_bound',\n",
    "      'NOAA Adjusted Sea Level': 'n_adj_sea_level',\n",
    "      'Year': 'year'}))    \n",
    "\n",
    "\n",
    "    # Create scatter plot\n",
    "    fig, ax = plt.subplots()\n",
    "    plt.scatter(df.year, df.c_adj_sea_level)\n",
    "\n",
    "\n",
    "    # Create first line of best fit\n",
    "    y2k50 = np.arange(df.year.min(), 2051)\n",
    "    slope, intercept, r_value, p_value, std_err = linregress(\n",
    "      df.year, df.c_adj_sea_level)\n",
    "    plt.scatter(df.year, df.c_adj_sea_level, label = 'Original Plot')\n",
    "    plt.plot(y2k50, intercept + slope * y2k50, 'r', label='Best Fit 1')\n",
    "\n",
    "\n",
    "    # Create second line of best fit\n",
    "    y2k = df[df.year >= 2000]\n",
    "    slopeY, interceptY, rY, pY, std_errY = linregress(\n",
    "      y2k.year, y2k.c_adj_sea_level)\n",
    "    y2k502 = np.arange(2000,2051)\n",
    "    plt.plot(y2k502, interceptY + slopeY * y2k502, 'g', label = 'Best Fit 2')\n",
    "    plt.legend()\n",
    "\n",
    "\n",
    "    # Add labels and title\n",
    "    plt.xlabel('Year')\n",
    "    plt.ylabel('Sea Level (inches)')\n",
    "    plt.title('Rise in Sea Level', pad=10)\n",
    "\n",
    "    \n",
    "    # Save plot and return data for testing (DO NOT MODIFY)\n",
    "    plt.savefig('sea_level_plot.png')\n",
    "    return plt.gca()\n",
    "\n",
    "```"
   ]
  },
  {
   "cell_type": "code",
   "execution_count": null,
   "id": "8e42691b",
   "metadata": {},
   "outputs": [],
   "source": []
  }
 ],
 "metadata": {
  "kernelspec": {
   "display_name": "Python 3 (ipykernel)",
   "language": "python",
   "name": "python3"
  },
  "language_info": {
   "codemirror_mode": {
    "name": "ipython",
    "version": 3
   },
   "file_extension": ".py",
   "mimetype": "text/x-python",
   "name": "python",
   "nbconvert_exporter": "python",
   "pygments_lexer": "ipython3",
   "version": "3.9.7"
  }
 },
 "nbformat": 4,
 "nbformat_minor": 5
}
